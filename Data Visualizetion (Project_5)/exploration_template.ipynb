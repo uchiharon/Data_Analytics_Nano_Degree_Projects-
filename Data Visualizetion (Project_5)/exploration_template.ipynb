{
 "cells": [
  {
   "cell_type": "markdown",
   "metadata": {},
   "source": [
    "# Project: Investigation of Dataset with Visualization\n",
    "\n",
    "## Table of Contents\n",
    "<ul>\n",
    "<li><a href=\"#intro\">Introduction</a></li>\n",
    "<li><a href=\"#wrangling\">Data Wrangling</a></li>\n",
    "<li><a href=\"#eda\">Exploratory Data Analysis</a></li>\n",
    "</ul>"
   ]
  },
  {
   "cell_type": "markdown",
   "metadata": {},
   "source": [
    "<a id='intro'></a>\n",
    "## Introduction"
   ]
  },
  {
   "cell_type": "code",
   "execution_count": 1,
   "metadata": {},
   "outputs": [],
   "source": [
    "import pandas as pd\n",
    "import numpy as np\n",
    "import matplotlib.pyplot as plt\n",
    "import seaborn as sb"
   ]
  },
  {
   "cell_type": "markdown",
   "metadata": {},
   "source": [
    "<a id='wrangling'></a>\n",
    "## Data Wrangling"
   ]
  },
  {
   "cell_type": "markdown",
   "metadata": {},
   "source": [
    "### Data Gathering"
   ]
  },
  {
   "cell_type": "code",
   "execution_count": 2,
   "metadata": {},
   "outputs": [],
   "source": [
    "# Read data\n",
    "flight_df1 = pd.read_csv('Flight_Report_For_January_2020.csv')\n",
    "flight_df2 = pd.read_csv('Flight_Report_For_February_2020.csv')\n",
    "flight_df3 = pd.read_csv('Flight_Report_For_March_2020.csv')"
   ]
  },
  {
   "cell_type": "code",
   "execution_count": 3,
   "metadata": {},
   "outputs": [],
   "source": [
    "# Combine the dataframe to from on table \n",
    "combined_df = pd.concat([flight_df1, flight_df2, flight_df3])"
   ]
  },
  {
   "cell_type": "markdown",
   "metadata": {},
   "source": [
    "#### Testing\n",
    "<p> Test the gathered data to ensure no error corrected during files reading and combing </p>"
   ]
  },
  {
   "cell_type": "code",
   "execution_count": 4,
   "metadata": {},
   "outputs": [
    {
     "data": {
      "text/html": [
       "<div>\n",
       "<style scoped>\n",
       "    .dataframe tbody tr th:only-of-type {\n",
       "        vertical-align: middle;\n",
       "    }\n",
       "\n",
       "    .dataframe tbody tr th {\n",
       "        vertical-align: top;\n",
       "    }\n",
       "\n",
       "    .dataframe thead th {\n",
       "        text-align: right;\n",
       "    }\n",
       "</style>\n",
       "<table border=\"1\" class=\"dataframe\">\n",
       "  <thead>\n",
       "    <tr style=\"text-align: right;\">\n",
       "      <th></th>\n",
       "      <th>YEAR</th>\n",
       "      <th>MONTH</th>\n",
       "      <th>DAY_OF_WEEK</th>\n",
       "      <th>OP_UNIQUE_CARRIER</th>\n",
       "      <th>OP_CARRIER_AIRLINE_ID</th>\n",
       "      <th>OP_CARRIER_FL_NUM</th>\n",
       "      <th>ORIGIN_AIRPORT_ID</th>\n",
       "      <th>ORIGIN_AIRPORT_SEQ_ID</th>\n",
       "      <th>ORIGIN_CITY_MARKET_ID</th>\n",
       "      <th>ORIGIN</th>\n",
       "      <th>...</th>\n",
       "      <th>DEST_CITY_MARKET_ID</th>\n",
       "      <th>DEST_CITY_NAME</th>\n",
       "      <th>DEST_STATE_ABR</th>\n",
       "      <th>DEST_STATE_FIPS</th>\n",
       "      <th>DEST_STATE_NM</th>\n",
       "      <th>CANCELLED</th>\n",
       "      <th>CANCELLATION_CODE</th>\n",
       "      <th>DIVERTED</th>\n",
       "      <th>FLIGHTS</th>\n",
       "      <th>Unnamed: 24</th>\n",
       "    </tr>\n",
       "  </thead>\n",
       "  <tbody>\n",
       "    <tr>\n",
       "      <td>0</td>\n",
       "      <td>2020</td>\n",
       "      <td>1</td>\n",
       "      <td>3</td>\n",
       "      <td>WN</td>\n",
       "      <td>19393</td>\n",
       "      <td>5888</td>\n",
       "      <td>13891</td>\n",
       "      <td>1389101</td>\n",
       "      <td>32575</td>\n",
       "      <td>ONT</td>\n",
       "      <td>...</td>\n",
       "      <td>32457</td>\n",
       "      <td>San Francisco, CA</td>\n",
       "      <td>CA</td>\n",
       "      <td>6</td>\n",
       "      <td>California</td>\n",
       "      <td>0.0</td>\n",
       "      <td>NaN</td>\n",
       "      <td>0.0</td>\n",
       "      <td>1.0</td>\n",
       "      <td>NaN</td>\n",
       "    </tr>\n",
       "    <tr>\n",
       "      <td>1</td>\n",
       "      <td>2020</td>\n",
       "      <td>1</td>\n",
       "      <td>3</td>\n",
       "      <td>WN</td>\n",
       "      <td>19393</td>\n",
       "      <td>6276</td>\n",
       "      <td>13891</td>\n",
       "      <td>1389101</td>\n",
       "      <td>32575</td>\n",
       "      <td>ONT</td>\n",
       "      <td>...</td>\n",
       "      <td>32457</td>\n",
       "      <td>San Francisco, CA</td>\n",
       "      <td>CA</td>\n",
       "      <td>6</td>\n",
       "      <td>California</td>\n",
       "      <td>0.0</td>\n",
       "      <td>NaN</td>\n",
       "      <td>0.0</td>\n",
       "      <td>1.0</td>\n",
       "      <td>NaN</td>\n",
       "    </tr>\n",
       "    <tr>\n",
       "      <td>2</td>\n",
       "      <td>2020</td>\n",
       "      <td>1</td>\n",
       "      <td>3</td>\n",
       "      <td>WN</td>\n",
       "      <td>19393</td>\n",
       "      <td>4598</td>\n",
       "      <td>13891</td>\n",
       "      <td>1389101</td>\n",
       "      <td>32575</td>\n",
       "      <td>ONT</td>\n",
       "      <td>...</td>\n",
       "      <td>32457</td>\n",
       "      <td>San Jose, CA</td>\n",
       "      <td>CA</td>\n",
       "      <td>6</td>\n",
       "      <td>California</td>\n",
       "      <td>0.0</td>\n",
       "      <td>NaN</td>\n",
       "      <td>0.0</td>\n",
       "      <td>1.0</td>\n",
       "      <td>NaN</td>\n",
       "    </tr>\n",
       "    <tr>\n",
       "      <td>3</td>\n",
       "      <td>2020</td>\n",
       "      <td>1</td>\n",
       "      <td>3</td>\n",
       "      <td>WN</td>\n",
       "      <td>19393</td>\n",
       "      <td>4761</td>\n",
       "      <td>13891</td>\n",
       "      <td>1389101</td>\n",
       "      <td>32575</td>\n",
       "      <td>ONT</td>\n",
       "      <td>...</td>\n",
       "      <td>32457</td>\n",
       "      <td>San Jose, CA</td>\n",
       "      <td>CA</td>\n",
       "      <td>6</td>\n",
       "      <td>California</td>\n",
       "      <td>0.0</td>\n",
       "      <td>NaN</td>\n",
       "      <td>0.0</td>\n",
       "      <td>1.0</td>\n",
       "      <td>NaN</td>\n",
       "    </tr>\n",
       "    <tr>\n",
       "      <td>4</td>\n",
       "      <td>2020</td>\n",
       "      <td>1</td>\n",
       "      <td>3</td>\n",
       "      <td>WN</td>\n",
       "      <td>19393</td>\n",
       "      <td>5162</td>\n",
       "      <td>13891</td>\n",
       "      <td>1389101</td>\n",
       "      <td>32575</td>\n",
       "      <td>ONT</td>\n",
       "      <td>...</td>\n",
       "      <td>32457</td>\n",
       "      <td>San Jose, CA</td>\n",
       "      <td>CA</td>\n",
       "      <td>6</td>\n",
       "      <td>California</td>\n",
       "      <td>0.0</td>\n",
       "      <td>NaN</td>\n",
       "      <td>0.0</td>\n",
       "      <td>1.0</td>\n",
       "      <td>NaN</td>\n",
       "    </tr>\n",
       "  </tbody>\n",
       "</table>\n",
       "<p>5 rows × 25 columns</p>\n",
       "</div>"
      ],
      "text/plain": [
       "   YEAR  MONTH  DAY_OF_WEEK OP_UNIQUE_CARRIER  OP_CARRIER_AIRLINE_ID  \\\n",
       "0  2020      1            3                WN                  19393   \n",
       "1  2020      1            3                WN                  19393   \n",
       "2  2020      1            3                WN                  19393   \n",
       "3  2020      1            3                WN                  19393   \n",
       "4  2020      1            3                WN                  19393   \n",
       "\n",
       "   OP_CARRIER_FL_NUM  ORIGIN_AIRPORT_ID  ORIGIN_AIRPORT_SEQ_ID  \\\n",
       "0               5888              13891                1389101   \n",
       "1               6276              13891                1389101   \n",
       "2               4598              13891                1389101   \n",
       "3               4761              13891                1389101   \n",
       "4               5162              13891                1389101   \n",
       "\n",
       "   ORIGIN_CITY_MARKET_ID ORIGIN  ... DEST_CITY_MARKET_ID     DEST_CITY_NAME  \\\n",
       "0                  32575    ONT  ...               32457  San Francisco, CA   \n",
       "1                  32575    ONT  ...               32457  San Francisco, CA   \n",
       "2                  32575    ONT  ...               32457       San Jose, CA   \n",
       "3                  32575    ONT  ...               32457       San Jose, CA   \n",
       "4                  32575    ONT  ...               32457       San Jose, CA   \n",
       "\n",
       "  DEST_STATE_ABR  DEST_STATE_FIPS  DEST_STATE_NM  CANCELLED CANCELLATION_CODE  \\\n",
       "0             CA                6     California        0.0               NaN   \n",
       "1             CA                6     California        0.0               NaN   \n",
       "2             CA                6     California        0.0               NaN   \n",
       "3             CA                6     California        0.0               NaN   \n",
       "4             CA                6     California        0.0               NaN   \n",
       "\n",
       "  DIVERTED  FLIGHTS Unnamed: 24  \n",
       "0      0.0      1.0         NaN  \n",
       "1      0.0      1.0         NaN  \n",
       "2      0.0      1.0         NaN  \n",
       "3      0.0      1.0         NaN  \n",
       "4      0.0      1.0         NaN  \n",
       "\n",
       "[5 rows x 25 columns]"
      ]
     },
     "execution_count": 4,
     "metadata": {},
     "output_type": "execute_result"
    }
   ],
   "source": [
    "# Check if columns are thesame\n",
    "assert combined_df.shape[1] == flight_df1.shape[1] == flight_df2.shape[1] == flight_df3.shape[1]\n",
    "\n",
    "# Check if the rows sum of the seperate dataframe equal the rows in the combined dataframe\n",
    "assert combined_df.shape[0] == flight_df1.shape[0] + flight_df2.shape[0] + flight_df3.shape[0]\n",
    "\n",
    "# Preview dataframe\n",
    "combined_df.head()"
   ]
  },
  {
   "cell_type": "markdown",
   "metadata": {},
   "source": [
    "### Data Assessing "
   ]
  },
  {
   "cell_type": "code",
   "execution_count": 5,
   "metadata": {},
   "outputs": [
    {
     "data": {
      "text/plain": [
       "(1829843, 25)"
      ]
     },
     "execution_count": 5,
     "metadata": {},
     "output_type": "execute_result"
    }
   ],
   "source": [
    "# assessing data shape\n",
    "combined_df.shape"
   ]
  },
  {
   "cell_type": "code",
   "execution_count": 6,
   "metadata": {},
   "outputs": [
    {
     "name": "stdout",
     "output_type": "stream",
     "text": [
      "<class 'pandas.core.frame.DataFrame'>\n",
      "Int64Index: 1829843 entries, 0 to 648228\n",
      "Data columns (total 25 columns):\n",
      "YEAR                     int64\n",
      "MONTH                    int64\n",
      "DAY_OF_WEEK              int64\n",
      "OP_UNIQUE_CARRIER        object\n",
      "OP_CARRIER_AIRLINE_ID    int64\n",
      "OP_CARRIER_FL_NUM        int64\n",
      "ORIGIN_AIRPORT_ID        int64\n",
      "ORIGIN_AIRPORT_SEQ_ID    int64\n",
      "ORIGIN_CITY_MARKET_ID    int64\n",
      "ORIGIN                   object\n",
      "ORIGIN_CITY_NAME         object\n",
      "ORIGIN_STATE_ABR         object\n",
      "ORIGIN_STATE_NM          object\n",
      "DEST_AIRPORT_ID          int64\n",
      "DEST_AIRPORT_SEQ_ID      int64\n",
      "DEST_CITY_MARKET_ID      int64\n",
      "DEST_CITY_NAME           object\n",
      "DEST_STATE_ABR           object\n",
      "DEST_STATE_FIPS          int64\n",
      "DEST_STATE_NM            object\n",
      "CANCELLED                float64\n",
      "CANCELLATION_CODE        object\n",
      "DIVERTED                 float64\n",
      "FLIGHTS                  float64\n",
      "Unnamed: 24              float64\n",
      "dtypes: float64(4), int64(12), object(9)\n",
      "memory usage: 363.0+ MB\n"
     ]
    }
   ],
   "source": [
    "# assessing data info (columns data types)\n",
    "combined_df.info()"
   ]
  },
  {
   "cell_type": "code",
   "execution_count": 7,
   "metadata": {},
   "outputs": [
    {
     "data": {
      "text/plain": [
       "YEAR                     1829843\n",
       "MONTH                    1829843\n",
       "DAY_OF_WEEK              1829843\n",
       "OP_UNIQUE_CARRIER        1829843\n",
       "OP_CARRIER_AIRLINE_ID    1829843\n",
       "OP_CARRIER_FL_NUM        1829843\n",
       "ORIGIN_AIRPORT_ID        1829843\n",
       "ORIGIN_AIRPORT_SEQ_ID    1829843\n",
       "ORIGIN_CITY_MARKET_ID    1829843\n",
       "ORIGIN                   1829843\n",
       "ORIGIN_CITY_NAME         1829843\n",
       "ORIGIN_STATE_ABR         1829843\n",
       "ORIGIN_STATE_NM          1829843\n",
       "DEST_AIRPORT_ID          1829843\n",
       "DEST_AIRPORT_SEQ_ID      1829843\n",
       "DEST_CITY_MARKET_ID      1829843\n",
       "DEST_CITY_NAME           1829843\n",
       "DEST_STATE_ABR           1829843\n",
       "DEST_STATE_FIPS          1829843\n",
       "DEST_STATE_NM            1829843\n",
       "CANCELLED                1829843\n",
       "CANCELLATION_CODE         122250\n",
       "DIVERTED                 1829843\n",
       "FLIGHTS                  1829843\n",
       "Unnamed: 24                    0\n",
       "dtype: int64"
      ]
     },
     "execution_count": 7,
     "metadata": {},
     "output_type": "execute_result"
    }
   ],
   "source": [
    "# count columns none null entries\n",
    "combined_df.count()"
   ]
  },
  {
   "cell_type": "code",
   "execution_count": 8,
   "metadata": {},
   "outputs": [
    {
     "data": {
      "text/plain": [
       "YEAR                        1\n",
       "MONTH                       3\n",
       "DAY_OF_WEEK                 7\n",
       "OP_UNIQUE_CARRIER          17\n",
       "OP_CARRIER_AIRLINE_ID      17\n",
       "OP_CARRIER_FL_NUM        6735\n",
       "ORIGIN_AIRPORT_ID         353\n",
       "ORIGIN_AIRPORT_SEQ_ID     353\n",
       "ORIGIN_CITY_MARKET_ID     328\n",
       "ORIGIN                    353\n",
       "ORIGIN_CITY_NAME          346\n",
       "ORIGIN_STATE_ABR           52\n",
       "ORIGIN_STATE_NM            52\n",
       "DEST_AIRPORT_ID           352\n",
       "DEST_AIRPORT_SEQ_ID       352\n",
       "DEST_CITY_MARKET_ID       327\n",
       "DEST_CITY_NAME            345\n",
       "DEST_STATE_ABR             52\n",
       "DEST_STATE_FIPS            52\n",
       "DEST_STATE_NM              52\n",
       "CANCELLED                   2\n",
       "CANCELLATION_CODE           4\n",
       "DIVERTED                    2\n",
       "FLIGHTS                     1\n",
       "Unnamed: 24                 0\n",
       "dtype: int64"
      ]
     },
     "execution_count": 8,
     "metadata": {},
     "output_type": "execute_result"
    }
   ],
   "source": [
    "# assessing data uniqueness\n",
    "combined_df.nunique()"
   ]
  },
  {
   "cell_type": "code",
   "execution_count": 9,
   "metadata": {},
   "outputs": [
    {
     "data": {
      "text/plain": [
       "122250.0"
      ]
     },
     "execution_count": 9,
     "metadata": {},
     "output_type": "execute_result"
    }
   ],
   "source": [
    "combined_df.CANCELLED.sum()"
   ]
  },
  {
   "cell_type": "code",
   "execution_count": 10,
   "metadata": {},
   "outputs": [
    {
     "data": {
      "text/plain": [
       "1150823"
      ]
     },
     "execution_count": 10,
     "metadata": {},
     "output_type": "execute_result"
    }
   ],
   "source": [
    "# Check for duplicate\n",
    "combined_df.duplicated().sum()"
   ]
  },
  {
   "cell_type": "code",
   "execution_count": 11,
   "metadata": {},
   "outputs": [
    {
     "data": {
      "text/html": [
       "<div>\n",
       "<style scoped>\n",
       "    .dataframe tbody tr th:only-of-type {\n",
       "        vertical-align: middle;\n",
       "    }\n",
       "\n",
       "    .dataframe tbody tr th {\n",
       "        vertical-align: top;\n",
       "    }\n",
       "\n",
       "    .dataframe thead th {\n",
       "        text-align: right;\n",
       "    }\n",
       "</style>\n",
       "<table border=\"1\" class=\"dataframe\">\n",
       "  <thead>\n",
       "    <tr style=\"text-align: right;\">\n",
       "      <th></th>\n",
       "      <th>YEAR</th>\n",
       "      <th>MONTH</th>\n",
       "      <th>DAY_OF_WEEK</th>\n",
       "      <th>OP_UNIQUE_CARRIER</th>\n",
       "      <th>OP_CARRIER_AIRLINE_ID</th>\n",
       "      <th>OP_CARRIER_FL_NUM</th>\n",
       "      <th>ORIGIN_AIRPORT_ID</th>\n",
       "      <th>ORIGIN_AIRPORT_SEQ_ID</th>\n",
       "      <th>ORIGIN_CITY_MARKET_ID</th>\n",
       "      <th>ORIGIN</th>\n",
       "      <th>...</th>\n",
       "      <th>DEST_CITY_MARKET_ID</th>\n",
       "      <th>DEST_CITY_NAME</th>\n",
       "      <th>DEST_STATE_ABR</th>\n",
       "      <th>DEST_STATE_FIPS</th>\n",
       "      <th>DEST_STATE_NM</th>\n",
       "      <th>CANCELLED</th>\n",
       "      <th>CANCELLATION_CODE</th>\n",
       "      <th>DIVERTED</th>\n",
       "      <th>FLIGHTS</th>\n",
       "      <th>Unnamed: 24</th>\n",
       "    </tr>\n",
       "  </thead>\n",
       "  <tbody>\n",
       "    <tr>\n",
       "      <td>1</td>\n",
       "      <td>2020</td>\n",
       "      <td>1</td>\n",
       "      <td>3</td>\n",
       "      <td>WN</td>\n",
       "      <td>19393</td>\n",
       "      <td>6276</td>\n",
       "      <td>13891</td>\n",
       "      <td>1389101</td>\n",
       "      <td>32575</td>\n",
       "      <td>ONT</td>\n",
       "      <td>...</td>\n",
       "      <td>32457</td>\n",
       "      <td>San Francisco, CA</td>\n",
       "      <td>CA</td>\n",
       "      <td>6</td>\n",
       "      <td>California</td>\n",
       "      <td>0.0</td>\n",
       "      <td>NaN</td>\n",
       "      <td>0.0</td>\n",
       "      <td>1.0</td>\n",
       "      <td>NaN</td>\n",
       "    </tr>\n",
       "    <tr>\n",
       "      <td>2</td>\n",
       "      <td>2020</td>\n",
       "      <td>1</td>\n",
       "      <td>3</td>\n",
       "      <td>WN</td>\n",
       "      <td>19393</td>\n",
       "      <td>4598</td>\n",
       "      <td>13891</td>\n",
       "      <td>1389101</td>\n",
       "      <td>32575</td>\n",
       "      <td>ONT</td>\n",
       "      <td>...</td>\n",
       "      <td>32457</td>\n",
       "      <td>San Jose, CA</td>\n",
       "      <td>CA</td>\n",
       "      <td>6</td>\n",
       "      <td>California</td>\n",
       "      <td>0.0</td>\n",
       "      <td>NaN</td>\n",
       "      <td>0.0</td>\n",
       "      <td>1.0</td>\n",
       "      <td>NaN</td>\n",
       "    </tr>\n",
       "    <tr>\n",
       "      <td>3</td>\n",
       "      <td>2020</td>\n",
       "      <td>1</td>\n",
       "      <td>3</td>\n",
       "      <td>WN</td>\n",
       "      <td>19393</td>\n",
       "      <td>4761</td>\n",
       "      <td>13891</td>\n",
       "      <td>1389101</td>\n",
       "      <td>32575</td>\n",
       "      <td>ONT</td>\n",
       "      <td>...</td>\n",
       "      <td>32457</td>\n",
       "      <td>San Jose, CA</td>\n",
       "      <td>CA</td>\n",
       "      <td>6</td>\n",
       "      <td>California</td>\n",
       "      <td>0.0</td>\n",
       "      <td>NaN</td>\n",
       "      <td>0.0</td>\n",
       "      <td>1.0</td>\n",
       "      <td>NaN</td>\n",
       "    </tr>\n",
       "    <tr>\n",
       "      <td>4</td>\n",
       "      <td>2020</td>\n",
       "      <td>1</td>\n",
       "      <td>3</td>\n",
       "      <td>WN</td>\n",
       "      <td>19393</td>\n",
       "      <td>5162</td>\n",
       "      <td>13891</td>\n",
       "      <td>1389101</td>\n",
       "      <td>32575</td>\n",
       "      <td>ONT</td>\n",
       "      <td>...</td>\n",
       "      <td>32457</td>\n",
       "      <td>San Jose, CA</td>\n",
       "      <td>CA</td>\n",
       "      <td>6</td>\n",
       "      <td>California</td>\n",
       "      <td>0.0</td>\n",
       "      <td>NaN</td>\n",
       "      <td>0.0</td>\n",
       "      <td>1.0</td>\n",
       "      <td>NaN</td>\n",
       "    </tr>\n",
       "    <tr>\n",
       "      <td>5</td>\n",
       "      <td>2020</td>\n",
       "      <td>1</td>\n",
       "      <td>3</td>\n",
       "      <td>WN</td>\n",
       "      <td>19393</td>\n",
       "      <td>5684</td>\n",
       "      <td>13891</td>\n",
       "      <td>1389101</td>\n",
       "      <td>32575</td>\n",
       "      <td>ONT</td>\n",
       "      <td>...</td>\n",
       "      <td>32457</td>\n",
       "      <td>San Jose, CA</td>\n",
       "      <td>CA</td>\n",
       "      <td>6</td>\n",
       "      <td>California</td>\n",
       "      <td>0.0</td>\n",
       "      <td>NaN</td>\n",
       "      <td>0.0</td>\n",
       "      <td>1.0</td>\n",
       "      <td>NaN</td>\n",
       "    </tr>\n",
       "  </tbody>\n",
       "</table>\n",
       "<p>5 rows × 25 columns</p>\n",
       "</div>"
      ],
      "text/plain": [
       "   YEAR  MONTH  DAY_OF_WEEK OP_UNIQUE_CARRIER  OP_CARRIER_AIRLINE_ID  \\\n",
       "1  2020      1            3                WN                  19393   \n",
       "2  2020      1            3                WN                  19393   \n",
       "3  2020      1            3                WN                  19393   \n",
       "4  2020      1            3                WN                  19393   \n",
       "5  2020      1            3                WN                  19393   \n",
       "\n",
       "   OP_CARRIER_FL_NUM  ORIGIN_AIRPORT_ID  ORIGIN_AIRPORT_SEQ_ID  \\\n",
       "1               6276              13891                1389101   \n",
       "2               4598              13891                1389101   \n",
       "3               4761              13891                1389101   \n",
       "4               5162              13891                1389101   \n",
       "5               5684              13891                1389101   \n",
       "\n",
       "   ORIGIN_CITY_MARKET_ID ORIGIN  ... DEST_CITY_MARKET_ID     DEST_CITY_NAME  \\\n",
       "1                  32575    ONT  ...               32457  San Francisco, CA   \n",
       "2                  32575    ONT  ...               32457       San Jose, CA   \n",
       "3                  32575    ONT  ...               32457       San Jose, CA   \n",
       "4                  32575    ONT  ...               32457       San Jose, CA   \n",
       "5                  32575    ONT  ...               32457       San Jose, CA   \n",
       "\n",
       "  DEST_STATE_ABR  DEST_STATE_FIPS  DEST_STATE_NM  CANCELLED CANCELLATION_CODE  \\\n",
       "1             CA                6     California        0.0               NaN   \n",
       "2             CA                6     California        0.0               NaN   \n",
       "3             CA                6     California        0.0               NaN   \n",
       "4             CA                6     California        0.0               NaN   \n",
       "5             CA                6     California        0.0               NaN   \n",
       "\n",
       "  DIVERTED  FLIGHTS Unnamed: 24  \n",
       "1      0.0      1.0         NaN  \n",
       "2      0.0      1.0         NaN  \n",
       "3      0.0      1.0         NaN  \n",
       "4      0.0      1.0         NaN  \n",
       "5      0.0      1.0         NaN  \n",
       "\n",
       "[5 rows x 25 columns]"
      ]
     },
     "execution_count": 11,
     "metadata": {},
     "output_type": "execute_result"
    }
   ],
   "source": [
    "combined_df[combined_df.OP_CARRIER_AIRLINE_ID.duplicated()].head()"
   ]
  },
  {
   "cell_type": "markdown",
   "metadata": {},
   "source": [
    "##### Quality\n",
    "- Last Column has no name or data\n",
    "- Columns names is upper cast \n",
    "- Months are represent by numbers rather than names\n",
    "- Dates of the week are represented by number instead of names\n",
    "- City name is written along with state abbreviation\n",
    "- Duplicated rows\n",
    "\n",
    "\n",
    "##### Tidyness\n",
    "- State name appreared twice, as full and abbreviation\n",
    "- City name also contains state abbrevation \n",
    "- Some columns have inaccurate data type\n",
    "- Data requires two data frame (table)"
   ]
  },
  {
   "cell_type": "markdown",
   "metadata": {},
   "source": [
    "###### Define\n",
    "Removed `unnamed` colomn\n",
    "<p> This column was formed during data gathering and it contains NAN only </p>"
   ]
  },
  {
   "cell_type": "markdown",
   "metadata": {},
   "source": [
    "###### Code"
   ]
  },
  {
   "cell_type": "code",
   "execution_count": 12,
   "metadata": {},
   "outputs": [],
   "source": [
    "combined_df.drop(combined_df.columns[combined_df.columns.str.contains('unnamed',case = False)], axis = 1, inplace = True)"
   ]
  },
  {
   "cell_type": "markdown",
   "metadata": {},
   "source": [
    "###### Test"
   ]
  },
  {
   "cell_type": "code",
   "execution_count": 13,
   "metadata": {},
   "outputs": [
    {
     "data": {
      "text/html": [
       "<div>\n",
       "<style scoped>\n",
       "    .dataframe tbody tr th:only-of-type {\n",
       "        vertical-align: middle;\n",
       "    }\n",
       "\n",
       "    .dataframe tbody tr th {\n",
       "        vertical-align: top;\n",
       "    }\n",
       "\n",
       "    .dataframe thead th {\n",
       "        text-align: right;\n",
       "    }\n",
       "</style>\n",
       "<table border=\"1\" class=\"dataframe\">\n",
       "  <thead>\n",
       "    <tr style=\"text-align: right;\">\n",
       "      <th></th>\n",
       "      <th>YEAR</th>\n",
       "      <th>MONTH</th>\n",
       "      <th>DAY_OF_WEEK</th>\n",
       "      <th>OP_UNIQUE_CARRIER</th>\n",
       "      <th>OP_CARRIER_AIRLINE_ID</th>\n",
       "      <th>OP_CARRIER_FL_NUM</th>\n",
       "      <th>ORIGIN_AIRPORT_ID</th>\n",
       "      <th>ORIGIN_AIRPORT_SEQ_ID</th>\n",
       "      <th>ORIGIN_CITY_MARKET_ID</th>\n",
       "      <th>ORIGIN</th>\n",
       "      <th>...</th>\n",
       "      <th>DEST_AIRPORT_SEQ_ID</th>\n",
       "      <th>DEST_CITY_MARKET_ID</th>\n",
       "      <th>DEST_CITY_NAME</th>\n",
       "      <th>DEST_STATE_ABR</th>\n",
       "      <th>DEST_STATE_FIPS</th>\n",
       "      <th>DEST_STATE_NM</th>\n",
       "      <th>CANCELLED</th>\n",
       "      <th>CANCELLATION_CODE</th>\n",
       "      <th>DIVERTED</th>\n",
       "      <th>FLIGHTS</th>\n",
       "    </tr>\n",
       "  </thead>\n",
       "  <tbody>\n",
       "    <tr>\n",
       "      <td>0</td>\n",
       "      <td>2020</td>\n",
       "      <td>1</td>\n",
       "      <td>3</td>\n",
       "      <td>WN</td>\n",
       "      <td>19393</td>\n",
       "      <td>5888</td>\n",
       "      <td>13891</td>\n",
       "      <td>1389101</td>\n",
       "      <td>32575</td>\n",
       "      <td>ONT</td>\n",
       "      <td>...</td>\n",
       "      <td>1477104</td>\n",
       "      <td>32457</td>\n",
       "      <td>San Francisco, CA</td>\n",
       "      <td>CA</td>\n",
       "      <td>6</td>\n",
       "      <td>California</td>\n",
       "      <td>0.0</td>\n",
       "      <td>NaN</td>\n",
       "      <td>0.0</td>\n",
       "      <td>1.0</td>\n",
       "    </tr>\n",
       "    <tr>\n",
       "      <td>1</td>\n",
       "      <td>2020</td>\n",
       "      <td>1</td>\n",
       "      <td>3</td>\n",
       "      <td>WN</td>\n",
       "      <td>19393</td>\n",
       "      <td>6276</td>\n",
       "      <td>13891</td>\n",
       "      <td>1389101</td>\n",
       "      <td>32575</td>\n",
       "      <td>ONT</td>\n",
       "      <td>...</td>\n",
       "      <td>1477104</td>\n",
       "      <td>32457</td>\n",
       "      <td>San Francisco, CA</td>\n",
       "      <td>CA</td>\n",
       "      <td>6</td>\n",
       "      <td>California</td>\n",
       "      <td>0.0</td>\n",
       "      <td>NaN</td>\n",
       "      <td>0.0</td>\n",
       "      <td>1.0</td>\n",
       "    </tr>\n",
       "    <tr>\n",
       "      <td>2</td>\n",
       "      <td>2020</td>\n",
       "      <td>1</td>\n",
       "      <td>3</td>\n",
       "      <td>WN</td>\n",
       "      <td>19393</td>\n",
       "      <td>4598</td>\n",
       "      <td>13891</td>\n",
       "      <td>1389101</td>\n",
       "      <td>32575</td>\n",
       "      <td>ONT</td>\n",
       "      <td>...</td>\n",
       "      <td>1483106</td>\n",
       "      <td>32457</td>\n",
       "      <td>San Jose, CA</td>\n",
       "      <td>CA</td>\n",
       "      <td>6</td>\n",
       "      <td>California</td>\n",
       "      <td>0.0</td>\n",
       "      <td>NaN</td>\n",
       "      <td>0.0</td>\n",
       "      <td>1.0</td>\n",
       "    </tr>\n",
       "    <tr>\n",
       "      <td>3</td>\n",
       "      <td>2020</td>\n",
       "      <td>1</td>\n",
       "      <td>3</td>\n",
       "      <td>WN</td>\n",
       "      <td>19393</td>\n",
       "      <td>4761</td>\n",
       "      <td>13891</td>\n",
       "      <td>1389101</td>\n",
       "      <td>32575</td>\n",
       "      <td>ONT</td>\n",
       "      <td>...</td>\n",
       "      <td>1483106</td>\n",
       "      <td>32457</td>\n",
       "      <td>San Jose, CA</td>\n",
       "      <td>CA</td>\n",
       "      <td>6</td>\n",
       "      <td>California</td>\n",
       "      <td>0.0</td>\n",
       "      <td>NaN</td>\n",
       "      <td>0.0</td>\n",
       "      <td>1.0</td>\n",
       "    </tr>\n",
       "    <tr>\n",
       "      <td>4</td>\n",
       "      <td>2020</td>\n",
       "      <td>1</td>\n",
       "      <td>3</td>\n",
       "      <td>WN</td>\n",
       "      <td>19393</td>\n",
       "      <td>5162</td>\n",
       "      <td>13891</td>\n",
       "      <td>1389101</td>\n",
       "      <td>32575</td>\n",
       "      <td>ONT</td>\n",
       "      <td>...</td>\n",
       "      <td>1483106</td>\n",
       "      <td>32457</td>\n",
       "      <td>San Jose, CA</td>\n",
       "      <td>CA</td>\n",
       "      <td>6</td>\n",
       "      <td>California</td>\n",
       "      <td>0.0</td>\n",
       "      <td>NaN</td>\n",
       "      <td>0.0</td>\n",
       "      <td>1.0</td>\n",
       "    </tr>\n",
       "  </tbody>\n",
       "</table>\n",
       "<p>5 rows × 24 columns</p>\n",
       "</div>"
      ],
      "text/plain": [
       "   YEAR  MONTH  DAY_OF_WEEK OP_UNIQUE_CARRIER  OP_CARRIER_AIRLINE_ID  \\\n",
       "0  2020      1            3                WN                  19393   \n",
       "1  2020      1            3                WN                  19393   \n",
       "2  2020      1            3                WN                  19393   \n",
       "3  2020      1            3                WN                  19393   \n",
       "4  2020      1            3                WN                  19393   \n",
       "\n",
       "   OP_CARRIER_FL_NUM  ORIGIN_AIRPORT_ID  ORIGIN_AIRPORT_SEQ_ID  \\\n",
       "0               5888              13891                1389101   \n",
       "1               6276              13891                1389101   \n",
       "2               4598              13891                1389101   \n",
       "3               4761              13891                1389101   \n",
       "4               5162              13891                1389101   \n",
       "\n",
       "   ORIGIN_CITY_MARKET_ID ORIGIN  ... DEST_AIRPORT_SEQ_ID DEST_CITY_MARKET_ID  \\\n",
       "0                  32575    ONT  ...             1477104               32457   \n",
       "1                  32575    ONT  ...             1477104               32457   \n",
       "2                  32575    ONT  ...             1483106               32457   \n",
       "3                  32575    ONT  ...             1483106               32457   \n",
       "4                  32575    ONT  ...             1483106               32457   \n",
       "\n",
       "      DEST_CITY_NAME  DEST_STATE_ABR  DEST_STATE_FIPS  DEST_STATE_NM  \\\n",
       "0  San Francisco, CA              CA                6     California   \n",
       "1  San Francisco, CA              CA                6     California   \n",
       "2       San Jose, CA              CA                6     California   \n",
       "3       San Jose, CA              CA                6     California   \n",
       "4       San Jose, CA              CA                6     California   \n",
       "\n",
       "  CANCELLED CANCELLATION_CODE  DIVERTED FLIGHTS  \n",
       "0       0.0               NaN       0.0     1.0  \n",
       "1       0.0               NaN       0.0     1.0  \n",
       "2       0.0               NaN       0.0     1.0  \n",
       "3       0.0               NaN       0.0     1.0  \n",
       "4       0.0               NaN       0.0     1.0  \n",
       "\n",
       "[5 rows x 24 columns]"
      ]
     },
     "execution_count": 13,
     "metadata": {},
     "output_type": "execute_result"
    }
   ],
   "source": [
    "combined_df.head()"
   ]
  },
  {
   "cell_type": "markdown",
   "metadata": {},
   "source": [
    "###### Define\n",
    "Make columns name lowercase"
   ]
  },
  {
   "cell_type": "markdown",
   "metadata": {},
   "source": [
    "###### Code"
   ]
  },
  {
   "cell_type": "code",
   "execution_count": 14,
   "metadata": {},
   "outputs": [],
   "source": [
    "combined_df.rename(columns = lambda x: x.lower(), inplace = True)"
   ]
  },
  {
   "cell_type": "markdown",
   "metadata": {},
   "source": [
    "###### Test"
   ]
  },
  {
   "cell_type": "code",
   "execution_count": 15,
   "metadata": {},
   "outputs": [
    {
     "data": {
      "text/html": [
       "<div>\n",
       "<style scoped>\n",
       "    .dataframe tbody tr th:only-of-type {\n",
       "        vertical-align: middle;\n",
       "    }\n",
       "\n",
       "    .dataframe tbody tr th {\n",
       "        vertical-align: top;\n",
       "    }\n",
       "\n",
       "    .dataframe thead th {\n",
       "        text-align: right;\n",
       "    }\n",
       "</style>\n",
       "<table border=\"1\" class=\"dataframe\">\n",
       "  <thead>\n",
       "    <tr style=\"text-align: right;\">\n",
       "      <th></th>\n",
       "      <th>year</th>\n",
       "      <th>month</th>\n",
       "      <th>day_of_week</th>\n",
       "      <th>op_unique_carrier</th>\n",
       "      <th>op_carrier_airline_id</th>\n",
       "      <th>op_carrier_fl_num</th>\n",
       "      <th>origin_airport_id</th>\n",
       "      <th>origin_airport_seq_id</th>\n",
       "      <th>origin_city_market_id</th>\n",
       "      <th>origin</th>\n",
       "      <th>...</th>\n",
       "      <th>dest_airport_seq_id</th>\n",
       "      <th>dest_city_market_id</th>\n",
       "      <th>dest_city_name</th>\n",
       "      <th>dest_state_abr</th>\n",
       "      <th>dest_state_fips</th>\n",
       "      <th>dest_state_nm</th>\n",
       "      <th>cancelled</th>\n",
       "      <th>cancellation_code</th>\n",
       "      <th>diverted</th>\n",
       "      <th>flights</th>\n",
       "    </tr>\n",
       "  </thead>\n",
       "  <tbody>\n",
       "    <tr>\n",
       "      <td>0</td>\n",
       "      <td>2020</td>\n",
       "      <td>1</td>\n",
       "      <td>3</td>\n",
       "      <td>WN</td>\n",
       "      <td>19393</td>\n",
       "      <td>5888</td>\n",
       "      <td>13891</td>\n",
       "      <td>1389101</td>\n",
       "      <td>32575</td>\n",
       "      <td>ONT</td>\n",
       "      <td>...</td>\n",
       "      <td>1477104</td>\n",
       "      <td>32457</td>\n",
       "      <td>San Francisco, CA</td>\n",
       "      <td>CA</td>\n",
       "      <td>6</td>\n",
       "      <td>California</td>\n",
       "      <td>0.0</td>\n",
       "      <td>NaN</td>\n",
       "      <td>0.0</td>\n",
       "      <td>1.0</td>\n",
       "    </tr>\n",
       "    <tr>\n",
       "      <td>1</td>\n",
       "      <td>2020</td>\n",
       "      <td>1</td>\n",
       "      <td>3</td>\n",
       "      <td>WN</td>\n",
       "      <td>19393</td>\n",
       "      <td>6276</td>\n",
       "      <td>13891</td>\n",
       "      <td>1389101</td>\n",
       "      <td>32575</td>\n",
       "      <td>ONT</td>\n",
       "      <td>...</td>\n",
       "      <td>1477104</td>\n",
       "      <td>32457</td>\n",
       "      <td>San Francisco, CA</td>\n",
       "      <td>CA</td>\n",
       "      <td>6</td>\n",
       "      <td>California</td>\n",
       "      <td>0.0</td>\n",
       "      <td>NaN</td>\n",
       "      <td>0.0</td>\n",
       "      <td>1.0</td>\n",
       "    </tr>\n",
       "    <tr>\n",
       "      <td>2</td>\n",
       "      <td>2020</td>\n",
       "      <td>1</td>\n",
       "      <td>3</td>\n",
       "      <td>WN</td>\n",
       "      <td>19393</td>\n",
       "      <td>4598</td>\n",
       "      <td>13891</td>\n",
       "      <td>1389101</td>\n",
       "      <td>32575</td>\n",
       "      <td>ONT</td>\n",
       "      <td>...</td>\n",
       "      <td>1483106</td>\n",
       "      <td>32457</td>\n",
       "      <td>San Jose, CA</td>\n",
       "      <td>CA</td>\n",
       "      <td>6</td>\n",
       "      <td>California</td>\n",
       "      <td>0.0</td>\n",
       "      <td>NaN</td>\n",
       "      <td>0.0</td>\n",
       "      <td>1.0</td>\n",
       "    </tr>\n",
       "    <tr>\n",
       "      <td>3</td>\n",
       "      <td>2020</td>\n",
       "      <td>1</td>\n",
       "      <td>3</td>\n",
       "      <td>WN</td>\n",
       "      <td>19393</td>\n",
       "      <td>4761</td>\n",
       "      <td>13891</td>\n",
       "      <td>1389101</td>\n",
       "      <td>32575</td>\n",
       "      <td>ONT</td>\n",
       "      <td>...</td>\n",
       "      <td>1483106</td>\n",
       "      <td>32457</td>\n",
       "      <td>San Jose, CA</td>\n",
       "      <td>CA</td>\n",
       "      <td>6</td>\n",
       "      <td>California</td>\n",
       "      <td>0.0</td>\n",
       "      <td>NaN</td>\n",
       "      <td>0.0</td>\n",
       "      <td>1.0</td>\n",
       "    </tr>\n",
       "    <tr>\n",
       "      <td>4</td>\n",
       "      <td>2020</td>\n",
       "      <td>1</td>\n",
       "      <td>3</td>\n",
       "      <td>WN</td>\n",
       "      <td>19393</td>\n",
       "      <td>5162</td>\n",
       "      <td>13891</td>\n",
       "      <td>1389101</td>\n",
       "      <td>32575</td>\n",
       "      <td>ONT</td>\n",
       "      <td>...</td>\n",
       "      <td>1483106</td>\n",
       "      <td>32457</td>\n",
       "      <td>San Jose, CA</td>\n",
       "      <td>CA</td>\n",
       "      <td>6</td>\n",
       "      <td>California</td>\n",
       "      <td>0.0</td>\n",
       "      <td>NaN</td>\n",
       "      <td>0.0</td>\n",
       "      <td>1.0</td>\n",
       "    </tr>\n",
       "  </tbody>\n",
       "</table>\n",
       "<p>5 rows × 24 columns</p>\n",
       "</div>"
      ],
      "text/plain": [
       "   year  month  day_of_week op_unique_carrier  op_carrier_airline_id  \\\n",
       "0  2020      1            3                WN                  19393   \n",
       "1  2020      1            3                WN                  19393   \n",
       "2  2020      1            3                WN                  19393   \n",
       "3  2020      1            3                WN                  19393   \n",
       "4  2020      1            3                WN                  19393   \n",
       "\n",
       "   op_carrier_fl_num  origin_airport_id  origin_airport_seq_id  \\\n",
       "0               5888              13891                1389101   \n",
       "1               6276              13891                1389101   \n",
       "2               4598              13891                1389101   \n",
       "3               4761              13891                1389101   \n",
       "4               5162              13891                1389101   \n",
       "\n",
       "   origin_city_market_id origin  ... dest_airport_seq_id dest_city_market_id  \\\n",
       "0                  32575    ONT  ...             1477104               32457   \n",
       "1                  32575    ONT  ...             1477104               32457   \n",
       "2                  32575    ONT  ...             1483106               32457   \n",
       "3                  32575    ONT  ...             1483106               32457   \n",
       "4                  32575    ONT  ...             1483106               32457   \n",
       "\n",
       "      dest_city_name  dest_state_abr  dest_state_fips  dest_state_nm  \\\n",
       "0  San Francisco, CA              CA                6     California   \n",
       "1  San Francisco, CA              CA                6     California   \n",
       "2       San Jose, CA              CA                6     California   \n",
       "3       San Jose, CA              CA                6     California   \n",
       "4       San Jose, CA              CA                6     California   \n",
       "\n",
       "  cancelled cancellation_code  diverted flights  \n",
       "0       0.0               NaN       0.0     1.0  \n",
       "1       0.0               NaN       0.0     1.0  \n",
       "2       0.0               NaN       0.0     1.0  \n",
       "3       0.0               NaN       0.0     1.0  \n",
       "4       0.0               NaN       0.0     1.0  \n",
       "\n",
       "[5 rows x 24 columns]"
      ]
     },
     "execution_count": 15,
     "metadata": {},
     "output_type": "execute_result"
    }
   ],
   "source": [
    "combined_df.head()"
   ]
  },
  {
   "cell_type": "markdown",
   "metadata": {},
   "source": [
    "###### Define\n",
    "Removed all duplicated row from data frame"
   ]
  },
  {
   "cell_type": "markdown",
   "metadata": {},
   "source": [
    "###### Code"
   ]
  },
  {
   "cell_type": "code",
   "execution_count": 16,
   "metadata": {},
   "outputs": [],
   "source": [
    "combined_df.drop_duplicates(inplace = True)"
   ]
  },
  {
   "cell_type": "markdown",
   "metadata": {},
   "source": [
    "###### Test"
   ]
  },
  {
   "cell_type": "code",
   "execution_count": 17,
   "metadata": {},
   "outputs": [
    {
     "data": {
      "text/plain": [
       "0"
      ]
     },
     "execution_count": 17,
     "metadata": {},
     "output_type": "execute_result"
    }
   ],
   "source": [
    "combined_df.duplicated().sum()"
   ]
  },
  {
   "cell_type": "markdown",
   "metadata": {},
   "source": [
    "###### Define\n",
    "Make a data frame for the states an their abbreviations "
   ]
  },
  {
   "cell_type": "markdown",
   "metadata": {},
   "source": [
    "###### Code"
   ]
  },
  {
   "cell_type": "code",
   "execution_count": 18,
   "metadata": {},
   "outputs": [],
   "source": [
    "state = []\n",
    "state_name = combined_df.origin_state_nm.unique()\n",
    "state_abr = combined_df.origin_state_abr.unique()\n",
    "for num in range(52):\n",
    "    a = state_name[num]\n",
    "    b = state_abr[num]\n",
    "    state.append({'name':a, 'abr':b})\n",
    "state_df = pd.DataFrame(data = state)\n",
    "state_df.to_csv('states_name_and_abbrevation.csv', index = False)"
   ]
  },
  {
   "cell_type": "markdown",
   "metadata": {},
   "source": [
    "###### Test"
   ]
  },
  {
   "cell_type": "code",
   "execution_count": 19,
   "metadata": {},
   "outputs": [
    {
     "data": {
      "text/html": [
       "<div>\n",
       "<style scoped>\n",
       "    .dataframe tbody tr th:only-of-type {\n",
       "        vertical-align: middle;\n",
       "    }\n",
       "\n",
       "    .dataframe tbody tr th {\n",
       "        vertical-align: top;\n",
       "    }\n",
       "\n",
       "    .dataframe thead th {\n",
       "        text-align: right;\n",
       "    }\n",
       "</style>\n",
       "<table border=\"1\" class=\"dataframe\">\n",
       "  <thead>\n",
       "    <tr style=\"text-align: right;\">\n",
       "      <th></th>\n",
       "      <th>name</th>\n",
       "      <th>abr</th>\n",
       "    </tr>\n",
       "  </thead>\n",
       "  <tbody>\n",
       "    <tr>\n",
       "      <td>0</td>\n",
       "      <td>California</td>\n",
       "      <td>CA</td>\n",
       "    </tr>\n",
       "    <tr>\n",
       "      <td>1</td>\n",
       "      <td>Virginia</td>\n",
       "      <td>VA</td>\n",
       "    </tr>\n",
       "    <tr>\n",
       "      <td>2</td>\n",
       "      <td>Florida</td>\n",
       "      <td>FL</td>\n",
       "    </tr>\n",
       "    <tr>\n",
       "      <td>3</td>\n",
       "      <td>Oregon</td>\n",
       "      <td>OR</td>\n",
       "    </tr>\n",
       "    <tr>\n",
       "      <td>4</td>\n",
       "      <td>Pennsylvania</td>\n",
       "      <td>PA</td>\n",
       "    </tr>\n",
       "  </tbody>\n",
       "</table>\n",
       "</div>"
      ],
      "text/plain": [
       "           name abr\n",
       "0    California  CA\n",
       "1      Virginia  VA\n",
       "2       Florida  FL\n",
       "3        Oregon  OR\n",
       "4  Pennsylvania  PA"
      ]
     },
     "execution_count": 19,
     "metadata": {},
     "output_type": "execute_result"
    }
   ],
   "source": [
    "state_df.head()"
   ]
  },
  {
   "cell_type": "markdown",
   "metadata": {},
   "source": [
    "###### Define\n",
    "Remove states full names "
   ]
  },
  {
   "cell_type": "markdown",
   "metadata": {},
   "source": [
    "###### Code"
   ]
  },
  {
   "cell_type": "code",
   "execution_count": 20,
   "metadata": {},
   "outputs": [],
   "source": [
    "combined_df.drop(['origin_state_nm', 'dest_state_nm'], axis =1, inplace = True)"
   ]
  },
  {
   "cell_type": "markdown",
   "metadata": {},
   "source": [
    "###### Test"
   ]
  },
  {
   "cell_type": "code",
   "execution_count": 21,
   "metadata": {},
   "outputs": [
    {
     "data": {
      "text/html": [
       "<div>\n",
       "<style scoped>\n",
       "    .dataframe tbody tr th:only-of-type {\n",
       "        vertical-align: middle;\n",
       "    }\n",
       "\n",
       "    .dataframe tbody tr th {\n",
       "        vertical-align: top;\n",
       "    }\n",
       "\n",
       "    .dataframe thead th {\n",
       "        text-align: right;\n",
       "    }\n",
       "</style>\n",
       "<table border=\"1\" class=\"dataframe\">\n",
       "  <thead>\n",
       "    <tr style=\"text-align: right;\">\n",
       "      <th></th>\n",
       "      <th>year</th>\n",
       "      <th>month</th>\n",
       "      <th>day_of_week</th>\n",
       "      <th>op_unique_carrier</th>\n",
       "      <th>op_carrier_airline_id</th>\n",
       "      <th>op_carrier_fl_num</th>\n",
       "      <th>origin_airport_id</th>\n",
       "      <th>origin_airport_seq_id</th>\n",
       "      <th>origin_city_market_id</th>\n",
       "      <th>origin</th>\n",
       "      <th>...</th>\n",
       "      <th>dest_airport_id</th>\n",
       "      <th>dest_airport_seq_id</th>\n",
       "      <th>dest_city_market_id</th>\n",
       "      <th>dest_city_name</th>\n",
       "      <th>dest_state_abr</th>\n",
       "      <th>dest_state_fips</th>\n",
       "      <th>cancelled</th>\n",
       "      <th>cancellation_code</th>\n",
       "      <th>diverted</th>\n",
       "      <th>flights</th>\n",
       "    </tr>\n",
       "  </thead>\n",
       "  <tbody>\n",
       "    <tr>\n",
       "      <td>0</td>\n",
       "      <td>2020</td>\n",
       "      <td>1</td>\n",
       "      <td>3</td>\n",
       "      <td>WN</td>\n",
       "      <td>19393</td>\n",
       "      <td>5888</td>\n",
       "      <td>13891</td>\n",
       "      <td>1389101</td>\n",
       "      <td>32575</td>\n",
       "      <td>ONT</td>\n",
       "      <td>...</td>\n",
       "      <td>14771</td>\n",
       "      <td>1477104</td>\n",
       "      <td>32457</td>\n",
       "      <td>San Francisco, CA</td>\n",
       "      <td>CA</td>\n",
       "      <td>6</td>\n",
       "      <td>0.0</td>\n",
       "      <td>NaN</td>\n",
       "      <td>0.0</td>\n",
       "      <td>1.0</td>\n",
       "    </tr>\n",
       "    <tr>\n",
       "      <td>1</td>\n",
       "      <td>2020</td>\n",
       "      <td>1</td>\n",
       "      <td>3</td>\n",
       "      <td>WN</td>\n",
       "      <td>19393</td>\n",
       "      <td>6276</td>\n",
       "      <td>13891</td>\n",
       "      <td>1389101</td>\n",
       "      <td>32575</td>\n",
       "      <td>ONT</td>\n",
       "      <td>...</td>\n",
       "      <td>14771</td>\n",
       "      <td>1477104</td>\n",
       "      <td>32457</td>\n",
       "      <td>San Francisco, CA</td>\n",
       "      <td>CA</td>\n",
       "      <td>6</td>\n",
       "      <td>0.0</td>\n",
       "      <td>NaN</td>\n",
       "      <td>0.0</td>\n",
       "      <td>1.0</td>\n",
       "    </tr>\n",
       "    <tr>\n",
       "      <td>2</td>\n",
       "      <td>2020</td>\n",
       "      <td>1</td>\n",
       "      <td>3</td>\n",
       "      <td>WN</td>\n",
       "      <td>19393</td>\n",
       "      <td>4598</td>\n",
       "      <td>13891</td>\n",
       "      <td>1389101</td>\n",
       "      <td>32575</td>\n",
       "      <td>ONT</td>\n",
       "      <td>...</td>\n",
       "      <td>14831</td>\n",
       "      <td>1483106</td>\n",
       "      <td>32457</td>\n",
       "      <td>San Jose, CA</td>\n",
       "      <td>CA</td>\n",
       "      <td>6</td>\n",
       "      <td>0.0</td>\n",
       "      <td>NaN</td>\n",
       "      <td>0.0</td>\n",
       "      <td>1.0</td>\n",
       "    </tr>\n",
       "    <tr>\n",
       "      <td>3</td>\n",
       "      <td>2020</td>\n",
       "      <td>1</td>\n",
       "      <td>3</td>\n",
       "      <td>WN</td>\n",
       "      <td>19393</td>\n",
       "      <td>4761</td>\n",
       "      <td>13891</td>\n",
       "      <td>1389101</td>\n",
       "      <td>32575</td>\n",
       "      <td>ONT</td>\n",
       "      <td>...</td>\n",
       "      <td>14831</td>\n",
       "      <td>1483106</td>\n",
       "      <td>32457</td>\n",
       "      <td>San Jose, CA</td>\n",
       "      <td>CA</td>\n",
       "      <td>6</td>\n",
       "      <td>0.0</td>\n",
       "      <td>NaN</td>\n",
       "      <td>0.0</td>\n",
       "      <td>1.0</td>\n",
       "    </tr>\n",
       "    <tr>\n",
       "      <td>4</td>\n",
       "      <td>2020</td>\n",
       "      <td>1</td>\n",
       "      <td>3</td>\n",
       "      <td>WN</td>\n",
       "      <td>19393</td>\n",
       "      <td>5162</td>\n",
       "      <td>13891</td>\n",
       "      <td>1389101</td>\n",
       "      <td>32575</td>\n",
       "      <td>ONT</td>\n",
       "      <td>...</td>\n",
       "      <td>14831</td>\n",
       "      <td>1483106</td>\n",
       "      <td>32457</td>\n",
       "      <td>San Jose, CA</td>\n",
       "      <td>CA</td>\n",
       "      <td>6</td>\n",
       "      <td>0.0</td>\n",
       "      <td>NaN</td>\n",
       "      <td>0.0</td>\n",
       "      <td>1.0</td>\n",
       "    </tr>\n",
       "  </tbody>\n",
       "</table>\n",
       "<p>5 rows × 22 columns</p>\n",
       "</div>"
      ],
      "text/plain": [
       "   year  month  day_of_week op_unique_carrier  op_carrier_airline_id  \\\n",
       "0  2020      1            3                WN                  19393   \n",
       "1  2020      1            3                WN                  19393   \n",
       "2  2020      1            3                WN                  19393   \n",
       "3  2020      1            3                WN                  19393   \n",
       "4  2020      1            3                WN                  19393   \n",
       "\n",
       "   op_carrier_fl_num  origin_airport_id  origin_airport_seq_id  \\\n",
       "0               5888              13891                1389101   \n",
       "1               6276              13891                1389101   \n",
       "2               4598              13891                1389101   \n",
       "3               4761              13891                1389101   \n",
       "4               5162              13891                1389101   \n",
       "\n",
       "   origin_city_market_id origin  ... dest_airport_id dest_airport_seq_id  \\\n",
       "0                  32575    ONT  ...           14771             1477104   \n",
       "1                  32575    ONT  ...           14771             1477104   \n",
       "2                  32575    ONT  ...           14831             1483106   \n",
       "3                  32575    ONT  ...           14831             1483106   \n",
       "4                  32575    ONT  ...           14831             1483106   \n",
       "\n",
       "   dest_city_market_id     dest_city_name  dest_state_abr dest_state_fips  \\\n",
       "0                32457  San Francisco, CA              CA               6   \n",
       "1                32457  San Francisco, CA              CA               6   \n",
       "2                32457       San Jose, CA              CA               6   \n",
       "3                32457       San Jose, CA              CA               6   \n",
       "4                32457       San Jose, CA              CA               6   \n",
       "\n",
       "  cancelled  cancellation_code  diverted flights  \n",
       "0       0.0                NaN       0.0     1.0  \n",
       "1       0.0                NaN       0.0     1.0  \n",
       "2       0.0                NaN       0.0     1.0  \n",
       "3       0.0                NaN       0.0     1.0  \n",
       "4       0.0                NaN       0.0     1.0  \n",
       "\n",
       "[5 rows x 22 columns]"
      ]
     },
     "execution_count": 21,
     "metadata": {},
     "output_type": "execute_result"
    }
   ],
   "source": [
    "combined_df.head()"
   ]
  },
  {
   "cell_type": "markdown",
   "metadata": {},
   "source": [
    "###### Define\n",
    "Make columns name lowercase"
   ]
  },
  {
   "cell_type": "markdown",
   "metadata": {},
   "source": [
    "###### Code"
   ]
  },
  {
   "cell_type": "code",
   "execution_count": 22,
   "metadata": {},
   "outputs": [],
   "source": [
    "combined_df['origin_city_name'] = combined_df['origin_city_name'].str[:-4]\n",
    "combined_df['dest_city_name'] = combined_df['dest_city_name'].str[:-4]"
   ]
  },
  {
   "cell_type": "markdown",
   "metadata": {},
   "source": [
    "###### Test"
   ]
  },
  {
   "cell_type": "code",
   "execution_count": 23,
   "metadata": {},
   "outputs": [
    {
     "data": {
      "text/html": [
       "<div>\n",
       "<style scoped>\n",
       "    .dataframe tbody tr th:only-of-type {\n",
       "        vertical-align: middle;\n",
       "    }\n",
       "\n",
       "    .dataframe tbody tr th {\n",
       "        vertical-align: top;\n",
       "    }\n",
       "\n",
       "    .dataframe thead th {\n",
       "        text-align: right;\n",
       "    }\n",
       "</style>\n",
       "<table border=\"1\" class=\"dataframe\">\n",
       "  <thead>\n",
       "    <tr style=\"text-align: right;\">\n",
       "      <th></th>\n",
       "      <th>year</th>\n",
       "      <th>month</th>\n",
       "      <th>day_of_week</th>\n",
       "      <th>op_unique_carrier</th>\n",
       "      <th>op_carrier_airline_id</th>\n",
       "      <th>op_carrier_fl_num</th>\n",
       "      <th>origin_airport_id</th>\n",
       "      <th>origin_airport_seq_id</th>\n",
       "      <th>origin_city_market_id</th>\n",
       "      <th>origin</th>\n",
       "      <th>...</th>\n",
       "      <th>dest_airport_id</th>\n",
       "      <th>dest_airport_seq_id</th>\n",
       "      <th>dest_city_market_id</th>\n",
       "      <th>dest_city_name</th>\n",
       "      <th>dest_state_abr</th>\n",
       "      <th>dest_state_fips</th>\n",
       "      <th>cancelled</th>\n",
       "      <th>cancellation_code</th>\n",
       "      <th>diverted</th>\n",
       "      <th>flights</th>\n",
       "    </tr>\n",
       "  </thead>\n",
       "  <tbody>\n",
       "    <tr>\n",
       "      <td>0</td>\n",
       "      <td>2020</td>\n",
       "      <td>1</td>\n",
       "      <td>3</td>\n",
       "      <td>WN</td>\n",
       "      <td>19393</td>\n",
       "      <td>5888</td>\n",
       "      <td>13891</td>\n",
       "      <td>1389101</td>\n",
       "      <td>32575</td>\n",
       "      <td>ONT</td>\n",
       "      <td>...</td>\n",
       "      <td>14771</td>\n",
       "      <td>1477104</td>\n",
       "      <td>32457</td>\n",
       "      <td>San Francisco</td>\n",
       "      <td>CA</td>\n",
       "      <td>6</td>\n",
       "      <td>0.0</td>\n",
       "      <td>NaN</td>\n",
       "      <td>0.0</td>\n",
       "      <td>1.0</td>\n",
       "    </tr>\n",
       "    <tr>\n",
       "      <td>1</td>\n",
       "      <td>2020</td>\n",
       "      <td>1</td>\n",
       "      <td>3</td>\n",
       "      <td>WN</td>\n",
       "      <td>19393</td>\n",
       "      <td>6276</td>\n",
       "      <td>13891</td>\n",
       "      <td>1389101</td>\n",
       "      <td>32575</td>\n",
       "      <td>ONT</td>\n",
       "      <td>...</td>\n",
       "      <td>14771</td>\n",
       "      <td>1477104</td>\n",
       "      <td>32457</td>\n",
       "      <td>San Francisco</td>\n",
       "      <td>CA</td>\n",
       "      <td>6</td>\n",
       "      <td>0.0</td>\n",
       "      <td>NaN</td>\n",
       "      <td>0.0</td>\n",
       "      <td>1.0</td>\n",
       "    </tr>\n",
       "    <tr>\n",
       "      <td>2</td>\n",
       "      <td>2020</td>\n",
       "      <td>1</td>\n",
       "      <td>3</td>\n",
       "      <td>WN</td>\n",
       "      <td>19393</td>\n",
       "      <td>4598</td>\n",
       "      <td>13891</td>\n",
       "      <td>1389101</td>\n",
       "      <td>32575</td>\n",
       "      <td>ONT</td>\n",
       "      <td>...</td>\n",
       "      <td>14831</td>\n",
       "      <td>1483106</td>\n",
       "      <td>32457</td>\n",
       "      <td>San Jose</td>\n",
       "      <td>CA</td>\n",
       "      <td>6</td>\n",
       "      <td>0.0</td>\n",
       "      <td>NaN</td>\n",
       "      <td>0.0</td>\n",
       "      <td>1.0</td>\n",
       "    </tr>\n",
       "    <tr>\n",
       "      <td>3</td>\n",
       "      <td>2020</td>\n",
       "      <td>1</td>\n",
       "      <td>3</td>\n",
       "      <td>WN</td>\n",
       "      <td>19393</td>\n",
       "      <td>4761</td>\n",
       "      <td>13891</td>\n",
       "      <td>1389101</td>\n",
       "      <td>32575</td>\n",
       "      <td>ONT</td>\n",
       "      <td>...</td>\n",
       "      <td>14831</td>\n",
       "      <td>1483106</td>\n",
       "      <td>32457</td>\n",
       "      <td>San Jose</td>\n",
       "      <td>CA</td>\n",
       "      <td>6</td>\n",
       "      <td>0.0</td>\n",
       "      <td>NaN</td>\n",
       "      <td>0.0</td>\n",
       "      <td>1.0</td>\n",
       "    </tr>\n",
       "    <tr>\n",
       "      <td>4</td>\n",
       "      <td>2020</td>\n",
       "      <td>1</td>\n",
       "      <td>3</td>\n",
       "      <td>WN</td>\n",
       "      <td>19393</td>\n",
       "      <td>5162</td>\n",
       "      <td>13891</td>\n",
       "      <td>1389101</td>\n",
       "      <td>32575</td>\n",
       "      <td>ONT</td>\n",
       "      <td>...</td>\n",
       "      <td>14831</td>\n",
       "      <td>1483106</td>\n",
       "      <td>32457</td>\n",
       "      <td>San Jose</td>\n",
       "      <td>CA</td>\n",
       "      <td>6</td>\n",
       "      <td>0.0</td>\n",
       "      <td>NaN</td>\n",
       "      <td>0.0</td>\n",
       "      <td>1.0</td>\n",
       "    </tr>\n",
       "  </tbody>\n",
       "</table>\n",
       "<p>5 rows × 22 columns</p>\n",
       "</div>"
      ],
      "text/plain": [
       "   year  month  day_of_week op_unique_carrier  op_carrier_airline_id  \\\n",
       "0  2020      1            3                WN                  19393   \n",
       "1  2020      1            3                WN                  19393   \n",
       "2  2020      1            3                WN                  19393   \n",
       "3  2020      1            3                WN                  19393   \n",
       "4  2020      1            3                WN                  19393   \n",
       "\n",
       "   op_carrier_fl_num  origin_airport_id  origin_airport_seq_id  \\\n",
       "0               5888              13891                1389101   \n",
       "1               6276              13891                1389101   \n",
       "2               4598              13891                1389101   \n",
       "3               4761              13891                1389101   \n",
       "4               5162              13891                1389101   \n",
       "\n",
       "   origin_city_market_id origin  ... dest_airport_id dest_airport_seq_id  \\\n",
       "0                  32575    ONT  ...           14771             1477104   \n",
       "1                  32575    ONT  ...           14771             1477104   \n",
       "2                  32575    ONT  ...           14831             1483106   \n",
       "3                  32575    ONT  ...           14831             1483106   \n",
       "4                  32575    ONT  ...           14831             1483106   \n",
       "\n",
       "   dest_city_market_id  dest_city_name  dest_state_abr dest_state_fips  \\\n",
       "0                32457   San Francisco              CA               6   \n",
       "1                32457   San Francisco              CA               6   \n",
       "2                32457        San Jose              CA               6   \n",
       "3                32457        San Jose              CA               6   \n",
       "4                32457        San Jose              CA               6   \n",
       "\n",
       "  cancelled  cancellation_code  diverted flights  \n",
       "0       0.0                NaN       0.0     1.0  \n",
       "1       0.0                NaN       0.0     1.0  \n",
       "2       0.0                NaN       0.0     1.0  \n",
       "3       0.0                NaN       0.0     1.0  \n",
       "4       0.0                NaN       0.0     1.0  \n",
       "\n",
       "[5 rows x 22 columns]"
      ]
     },
     "execution_count": 23,
     "metadata": {},
     "output_type": "execute_result"
    }
   ],
   "source": [
    "combined_df.head()"
   ]
  },
  {
   "cell_type": "markdown",
   "metadata": {},
   "source": [
    "###### Define\n",
    "Remove unnecessary columns\n",
    "<p>Here several column will be removed because a they are either not required for the evaluation or represents similar property like a different column.  These columns to be dropped include:<p/>\n",
    "\n",
    "- `year` : Since all data is from 2020, this column is not essential\n",
    "- `op_carrier_airline`: Represented by op_unique_carrier\n",
    "- `origin_airport_seq_id` and `origin`: Represented by `origin_airport_seq_id`\n",
    "- `dest_state_fips`: It also represents the states\n"
   ]
  },
  {
   "cell_type": "markdown",
   "metadata": {},
   "source": [
    "###### Code"
   ]
  },
  {
   "cell_type": "code",
   "execution_count": 24,
   "metadata": {},
   "outputs": [],
   "source": [
    "lists = ['year', 'op_carrier_airline_id', 'origin_airport_seq_id', 'origin', 'origin_city_market_id', 'dest_airport_seq_id', 'dest_city_market_id', 'dest_state_fips']\n",
    "combined_df.drop(lists, axis = 1, inplace  = True)"
   ]
  },
  {
   "cell_type": "markdown",
   "metadata": {},
   "source": [
    "###### Test"
   ]
  },
  {
   "cell_type": "code",
   "execution_count": 25,
   "metadata": {},
   "outputs": [
    {
     "data": {
      "text/html": [
       "<div>\n",
       "<style scoped>\n",
       "    .dataframe tbody tr th:only-of-type {\n",
       "        vertical-align: middle;\n",
       "    }\n",
       "\n",
       "    .dataframe tbody tr th {\n",
       "        vertical-align: top;\n",
       "    }\n",
       "\n",
       "    .dataframe thead th {\n",
       "        text-align: right;\n",
       "    }\n",
       "</style>\n",
       "<table border=\"1\" class=\"dataframe\">\n",
       "  <thead>\n",
       "    <tr style=\"text-align: right;\">\n",
       "      <th></th>\n",
       "      <th>month</th>\n",
       "      <th>day_of_week</th>\n",
       "      <th>op_unique_carrier</th>\n",
       "      <th>op_carrier_fl_num</th>\n",
       "      <th>origin_airport_id</th>\n",
       "      <th>origin_city_name</th>\n",
       "      <th>origin_state_abr</th>\n",
       "      <th>dest_airport_id</th>\n",
       "      <th>dest_city_name</th>\n",
       "      <th>dest_state_abr</th>\n",
       "      <th>cancelled</th>\n",
       "      <th>cancellation_code</th>\n",
       "      <th>diverted</th>\n",
       "      <th>flights</th>\n",
       "    </tr>\n",
       "  </thead>\n",
       "  <tbody>\n",
       "    <tr>\n",
       "      <td>0</td>\n",
       "      <td>1</td>\n",
       "      <td>3</td>\n",
       "      <td>WN</td>\n",
       "      <td>5888</td>\n",
       "      <td>13891</td>\n",
       "      <td>Ontario</td>\n",
       "      <td>CA</td>\n",
       "      <td>14771</td>\n",
       "      <td>San Francisco</td>\n",
       "      <td>CA</td>\n",
       "      <td>0.0</td>\n",
       "      <td>NaN</td>\n",
       "      <td>0.0</td>\n",
       "      <td>1.0</td>\n",
       "    </tr>\n",
       "    <tr>\n",
       "      <td>1</td>\n",
       "      <td>1</td>\n",
       "      <td>3</td>\n",
       "      <td>WN</td>\n",
       "      <td>6276</td>\n",
       "      <td>13891</td>\n",
       "      <td>Ontario</td>\n",
       "      <td>CA</td>\n",
       "      <td>14771</td>\n",
       "      <td>San Francisco</td>\n",
       "      <td>CA</td>\n",
       "      <td>0.0</td>\n",
       "      <td>NaN</td>\n",
       "      <td>0.0</td>\n",
       "      <td>1.0</td>\n",
       "    </tr>\n",
       "    <tr>\n",
       "      <td>2</td>\n",
       "      <td>1</td>\n",
       "      <td>3</td>\n",
       "      <td>WN</td>\n",
       "      <td>4598</td>\n",
       "      <td>13891</td>\n",
       "      <td>Ontario</td>\n",
       "      <td>CA</td>\n",
       "      <td>14831</td>\n",
       "      <td>San Jose</td>\n",
       "      <td>CA</td>\n",
       "      <td>0.0</td>\n",
       "      <td>NaN</td>\n",
       "      <td>0.0</td>\n",
       "      <td>1.0</td>\n",
       "    </tr>\n",
       "    <tr>\n",
       "      <td>3</td>\n",
       "      <td>1</td>\n",
       "      <td>3</td>\n",
       "      <td>WN</td>\n",
       "      <td>4761</td>\n",
       "      <td>13891</td>\n",
       "      <td>Ontario</td>\n",
       "      <td>CA</td>\n",
       "      <td>14831</td>\n",
       "      <td>San Jose</td>\n",
       "      <td>CA</td>\n",
       "      <td>0.0</td>\n",
       "      <td>NaN</td>\n",
       "      <td>0.0</td>\n",
       "      <td>1.0</td>\n",
       "    </tr>\n",
       "    <tr>\n",
       "      <td>4</td>\n",
       "      <td>1</td>\n",
       "      <td>3</td>\n",
       "      <td>WN</td>\n",
       "      <td>5162</td>\n",
       "      <td>13891</td>\n",
       "      <td>Ontario</td>\n",
       "      <td>CA</td>\n",
       "      <td>14831</td>\n",
       "      <td>San Jose</td>\n",
       "      <td>CA</td>\n",
       "      <td>0.0</td>\n",
       "      <td>NaN</td>\n",
       "      <td>0.0</td>\n",
       "      <td>1.0</td>\n",
       "    </tr>\n",
       "  </tbody>\n",
       "</table>\n",
       "</div>"
      ],
      "text/plain": [
       "   month  day_of_week op_unique_carrier  op_carrier_fl_num  origin_airport_id  \\\n",
       "0      1            3                WN               5888              13891   \n",
       "1      1            3                WN               6276              13891   \n",
       "2      1            3                WN               4598              13891   \n",
       "3      1            3                WN               4761              13891   \n",
       "4      1            3                WN               5162              13891   \n",
       "\n",
       "  origin_city_name origin_state_abr  dest_airport_id dest_city_name  \\\n",
       "0          Ontario               CA            14771  San Francisco   \n",
       "1          Ontario               CA            14771  San Francisco   \n",
       "2          Ontario               CA            14831       San Jose   \n",
       "3          Ontario               CA            14831       San Jose   \n",
       "4          Ontario               CA            14831       San Jose   \n",
       "\n",
       "  dest_state_abr  cancelled cancellation_code  diverted  flights  \n",
       "0             CA        0.0               NaN       0.0      1.0  \n",
       "1             CA        0.0               NaN       0.0      1.0  \n",
       "2             CA        0.0               NaN       0.0      1.0  \n",
       "3             CA        0.0               NaN       0.0      1.0  \n",
       "4             CA        0.0               NaN       0.0      1.0  "
      ]
     },
     "execution_count": 25,
     "metadata": {},
     "output_type": "execute_result"
    }
   ],
   "source": [
    "combined_df.head()"
   ]
  },
  {
   "cell_type": "markdown",
   "metadata": {},
   "source": [
    "###### Define\n",
    "Change data types of some columns to the required form for carry-out our visualization"
   ]
  },
  {
   "cell_type": "markdown",
   "metadata": {},
   "source": [
    "###### Code"
   ]
  },
  {
   "cell_type": "code",
   "execution_count": 26,
   "metadata": {},
   "outputs": [],
   "source": [
    "combined_df[['month', 'day_of_week', 'op_carrier_fl_num', 'origin_airport_id', 'dest_airport_id']] = combined_df[['month', 'day_of_week', 'op_carrier_fl_num', 'origin_airport_id', 'dest_airport_id']].astype(str)"
   ]
  },
  {
   "cell_type": "markdown",
   "metadata": {},
   "source": [
    "###### Test"
   ]
  },
  {
   "cell_type": "code",
   "execution_count": 27,
   "metadata": {},
   "outputs": [
    {
     "name": "stdout",
     "output_type": "stream",
     "text": [
      "<class 'pandas.core.frame.DataFrame'>\n",
      "Int64Index: 679020 entries, 0 to 648228\n",
      "Data columns (total 14 columns):\n",
      "month                679020 non-null object\n",
      "day_of_week          679020 non-null object\n",
      "op_unique_carrier    679020 non-null object\n",
      "op_carrier_fl_num    679020 non-null object\n",
      "origin_airport_id    679020 non-null object\n",
      "origin_city_name     679020 non-null object\n",
      "origin_state_abr     679020 non-null object\n",
      "dest_airport_id      679020 non-null object\n",
      "dest_city_name       679020 non-null object\n",
      "dest_state_abr       679020 non-null object\n",
      "cancelled            679020 non-null float64\n",
      "cancellation_code    104361 non-null object\n",
      "diverted             679020 non-null float64\n",
      "flights              679020 non-null float64\n",
      "dtypes: float64(3), object(11)\n",
      "memory usage: 77.7+ MB\n"
     ]
    }
   ],
   "source": [
    "combined_df.info()"
   ]
  },
  {
   "cell_type": "markdown",
   "metadata": {},
   "source": [
    "###### Define\n",
    "Change the months and days represented by numbers to their names "
   ]
  },
  {
   "cell_type": "markdown",
   "metadata": {},
   "source": [
    "###### Code"
   ]
  },
  {
   "cell_type": "code",
   "execution_count": 28,
   "metadata": {},
   "outputs": [],
   "source": [
    "combined_df['month'].replace({'1': 'January', '2': 'February', '3': 'March'}, inplace = True)\n",
    "combined_df['day_of_week'].replace({'1':'Sunday', '2':'Monday', '3':'Tuesday', '4':'Wednesday', '5':'Thursday', '6':'Friday', '7':'Saturday'}, inplace = True)"
   ]
  },
  {
   "cell_type": "markdown",
   "metadata": {},
   "source": [
    "###### Test"
   ]
  },
  {
   "cell_type": "code",
   "execution_count": 29,
   "metadata": {},
   "outputs": [
    {
     "data": {
      "text/html": [
       "<div>\n",
       "<style scoped>\n",
       "    .dataframe tbody tr th:only-of-type {\n",
       "        vertical-align: middle;\n",
       "    }\n",
       "\n",
       "    .dataframe tbody tr th {\n",
       "        vertical-align: top;\n",
       "    }\n",
       "\n",
       "    .dataframe thead th {\n",
       "        text-align: right;\n",
       "    }\n",
       "</style>\n",
       "<table border=\"1\" class=\"dataframe\">\n",
       "  <thead>\n",
       "    <tr style=\"text-align: right;\">\n",
       "      <th></th>\n",
       "      <th>month</th>\n",
       "      <th>day_of_week</th>\n",
       "      <th>op_unique_carrier</th>\n",
       "      <th>op_carrier_fl_num</th>\n",
       "      <th>origin_airport_id</th>\n",
       "      <th>origin_city_name</th>\n",
       "      <th>origin_state_abr</th>\n",
       "      <th>dest_airport_id</th>\n",
       "      <th>dest_city_name</th>\n",
       "      <th>dest_state_abr</th>\n",
       "      <th>cancelled</th>\n",
       "      <th>cancellation_code</th>\n",
       "      <th>diverted</th>\n",
       "      <th>flights</th>\n",
       "    </tr>\n",
       "  </thead>\n",
       "  <tbody>\n",
       "    <tr>\n",
       "      <td>0</td>\n",
       "      <td>January</td>\n",
       "      <td>Tuesday</td>\n",
       "      <td>WN</td>\n",
       "      <td>5888</td>\n",
       "      <td>13891</td>\n",
       "      <td>Ontario</td>\n",
       "      <td>CA</td>\n",
       "      <td>14771</td>\n",
       "      <td>San Francisco</td>\n",
       "      <td>CA</td>\n",
       "      <td>0.0</td>\n",
       "      <td>NaN</td>\n",
       "      <td>0.0</td>\n",
       "      <td>1.0</td>\n",
       "    </tr>\n",
       "    <tr>\n",
       "      <td>1</td>\n",
       "      <td>January</td>\n",
       "      <td>Tuesday</td>\n",
       "      <td>WN</td>\n",
       "      <td>6276</td>\n",
       "      <td>13891</td>\n",
       "      <td>Ontario</td>\n",
       "      <td>CA</td>\n",
       "      <td>14771</td>\n",
       "      <td>San Francisco</td>\n",
       "      <td>CA</td>\n",
       "      <td>0.0</td>\n",
       "      <td>NaN</td>\n",
       "      <td>0.0</td>\n",
       "      <td>1.0</td>\n",
       "    </tr>\n",
       "    <tr>\n",
       "      <td>2</td>\n",
       "      <td>January</td>\n",
       "      <td>Tuesday</td>\n",
       "      <td>WN</td>\n",
       "      <td>4598</td>\n",
       "      <td>13891</td>\n",
       "      <td>Ontario</td>\n",
       "      <td>CA</td>\n",
       "      <td>14831</td>\n",
       "      <td>San Jose</td>\n",
       "      <td>CA</td>\n",
       "      <td>0.0</td>\n",
       "      <td>NaN</td>\n",
       "      <td>0.0</td>\n",
       "      <td>1.0</td>\n",
       "    </tr>\n",
       "    <tr>\n",
       "      <td>3</td>\n",
       "      <td>January</td>\n",
       "      <td>Tuesday</td>\n",
       "      <td>WN</td>\n",
       "      <td>4761</td>\n",
       "      <td>13891</td>\n",
       "      <td>Ontario</td>\n",
       "      <td>CA</td>\n",
       "      <td>14831</td>\n",
       "      <td>San Jose</td>\n",
       "      <td>CA</td>\n",
       "      <td>0.0</td>\n",
       "      <td>NaN</td>\n",
       "      <td>0.0</td>\n",
       "      <td>1.0</td>\n",
       "    </tr>\n",
       "    <tr>\n",
       "      <td>4</td>\n",
       "      <td>January</td>\n",
       "      <td>Tuesday</td>\n",
       "      <td>WN</td>\n",
       "      <td>5162</td>\n",
       "      <td>13891</td>\n",
       "      <td>Ontario</td>\n",
       "      <td>CA</td>\n",
       "      <td>14831</td>\n",
       "      <td>San Jose</td>\n",
       "      <td>CA</td>\n",
       "      <td>0.0</td>\n",
       "      <td>NaN</td>\n",
       "      <td>0.0</td>\n",
       "      <td>1.0</td>\n",
       "    </tr>\n",
       "  </tbody>\n",
       "</table>\n",
       "</div>"
      ],
      "text/plain": [
       "     month day_of_week op_unique_carrier op_carrier_fl_num origin_airport_id  \\\n",
       "0  January     Tuesday                WN              5888             13891   \n",
       "1  January     Tuesday                WN              6276             13891   \n",
       "2  January     Tuesday                WN              4598             13891   \n",
       "3  January     Tuesday                WN              4761             13891   \n",
       "4  January     Tuesday                WN              5162             13891   \n",
       "\n",
       "  origin_city_name origin_state_abr dest_airport_id dest_city_name  \\\n",
       "0          Ontario               CA           14771  San Francisco   \n",
       "1          Ontario               CA           14771  San Francisco   \n",
       "2          Ontario               CA           14831       San Jose   \n",
       "3          Ontario               CA           14831       San Jose   \n",
       "4          Ontario               CA           14831       San Jose   \n",
       "\n",
       "  dest_state_abr  cancelled cancellation_code  diverted  flights  \n",
       "0             CA        0.0               NaN       0.0      1.0  \n",
       "1             CA        0.0               NaN       0.0      1.0  \n",
       "2             CA        0.0               NaN       0.0      1.0  \n",
       "3             CA        0.0               NaN       0.0      1.0  \n",
       "4             CA        0.0               NaN       0.0      1.0  "
      ]
     },
     "execution_count": 29,
     "metadata": {},
     "output_type": "execute_result"
    }
   ],
   "source": [
    "combined_df.head()"
   ]
  },
  {
   "cell_type": "markdown",
   "metadata": {},
   "source": [
    "##### Cleaned Data"
   ]
  },
  {
   "cell_type": "code",
   "execution_count": 30,
   "metadata": {},
   "outputs": [],
   "source": [
    "combined_df.to_csv('cleaned_data.csv', index = False)"
   ]
  },
  {
   "cell_type": "markdown",
   "metadata": {},
   "source": [
    "<a id='eda'></a>\n",
    "## Exploratory Data Analysis"
   ]
  },
  {
   "cell_type": "code",
   "execution_count": 31,
   "metadata": {},
   "outputs": [],
   "source": [
    "df = pd.read_csv('cleaned_data.csv')"
   ]
  },
  {
   "cell_type": "code",
   "execution_count": 32,
   "metadata": {},
   "outputs": [
    {
     "data": {
      "text/html": [
       "<div>\n",
       "<style scoped>\n",
       "    .dataframe tbody tr th:only-of-type {\n",
       "        vertical-align: middle;\n",
       "    }\n",
       "\n",
       "    .dataframe tbody tr th {\n",
       "        vertical-align: top;\n",
       "    }\n",
       "\n",
       "    .dataframe thead th {\n",
       "        text-align: right;\n",
       "    }\n",
       "</style>\n",
       "<table border=\"1\" class=\"dataframe\">\n",
       "  <thead>\n",
       "    <tr style=\"text-align: right;\">\n",
       "      <th></th>\n",
       "      <th>month</th>\n",
       "      <th>day_of_week</th>\n",
       "      <th>op_unique_carrier</th>\n",
       "      <th>op_carrier_fl_num</th>\n",
       "      <th>origin_airport_id</th>\n",
       "      <th>origin_city_name</th>\n",
       "      <th>origin_state_abr</th>\n",
       "      <th>dest_airport_id</th>\n",
       "      <th>dest_city_name</th>\n",
       "      <th>dest_state_abr</th>\n",
       "      <th>cancelled</th>\n",
       "      <th>cancellation_code</th>\n",
       "      <th>diverted</th>\n",
       "      <th>flights</th>\n",
       "    </tr>\n",
       "  </thead>\n",
       "  <tbody>\n",
       "    <tr>\n",
       "      <td>0</td>\n",
       "      <td>January</td>\n",
       "      <td>Tuesday</td>\n",
       "      <td>WN</td>\n",
       "      <td>5888</td>\n",
       "      <td>13891</td>\n",
       "      <td>Ontario</td>\n",
       "      <td>CA</td>\n",
       "      <td>14771</td>\n",
       "      <td>San Francisco</td>\n",
       "      <td>CA</td>\n",
       "      <td>0.0</td>\n",
       "      <td>NaN</td>\n",
       "      <td>0.0</td>\n",
       "      <td>1.0</td>\n",
       "    </tr>\n",
       "    <tr>\n",
       "      <td>1</td>\n",
       "      <td>January</td>\n",
       "      <td>Tuesday</td>\n",
       "      <td>WN</td>\n",
       "      <td>6276</td>\n",
       "      <td>13891</td>\n",
       "      <td>Ontario</td>\n",
       "      <td>CA</td>\n",
       "      <td>14771</td>\n",
       "      <td>San Francisco</td>\n",
       "      <td>CA</td>\n",
       "      <td>0.0</td>\n",
       "      <td>NaN</td>\n",
       "      <td>0.0</td>\n",
       "      <td>1.0</td>\n",
       "    </tr>\n",
       "    <tr>\n",
       "      <td>2</td>\n",
       "      <td>January</td>\n",
       "      <td>Tuesday</td>\n",
       "      <td>WN</td>\n",
       "      <td>4598</td>\n",
       "      <td>13891</td>\n",
       "      <td>Ontario</td>\n",
       "      <td>CA</td>\n",
       "      <td>14831</td>\n",
       "      <td>San Jose</td>\n",
       "      <td>CA</td>\n",
       "      <td>0.0</td>\n",
       "      <td>NaN</td>\n",
       "      <td>0.0</td>\n",
       "      <td>1.0</td>\n",
       "    </tr>\n",
       "    <tr>\n",
       "      <td>3</td>\n",
       "      <td>January</td>\n",
       "      <td>Tuesday</td>\n",
       "      <td>WN</td>\n",
       "      <td>4761</td>\n",
       "      <td>13891</td>\n",
       "      <td>Ontario</td>\n",
       "      <td>CA</td>\n",
       "      <td>14831</td>\n",
       "      <td>San Jose</td>\n",
       "      <td>CA</td>\n",
       "      <td>0.0</td>\n",
       "      <td>NaN</td>\n",
       "      <td>0.0</td>\n",
       "      <td>1.0</td>\n",
       "    </tr>\n",
       "    <tr>\n",
       "      <td>4</td>\n",
       "      <td>January</td>\n",
       "      <td>Tuesday</td>\n",
       "      <td>WN</td>\n",
       "      <td>5162</td>\n",
       "      <td>13891</td>\n",
       "      <td>Ontario</td>\n",
       "      <td>CA</td>\n",
       "      <td>14831</td>\n",
       "      <td>San Jose</td>\n",
       "      <td>CA</td>\n",
       "      <td>0.0</td>\n",
       "      <td>NaN</td>\n",
       "      <td>0.0</td>\n",
       "      <td>1.0</td>\n",
       "    </tr>\n",
       "  </tbody>\n",
       "</table>\n",
       "</div>"
      ],
      "text/plain": [
       "     month day_of_week op_unique_carrier  op_carrier_fl_num  \\\n",
       "0  January     Tuesday                WN               5888   \n",
       "1  January     Tuesday                WN               6276   \n",
       "2  January     Tuesday                WN               4598   \n",
       "3  January     Tuesday                WN               4761   \n",
       "4  January     Tuesday                WN               5162   \n",
       "\n",
       "   origin_airport_id origin_city_name origin_state_abr  dest_airport_id  \\\n",
       "0              13891          Ontario               CA            14771   \n",
       "1              13891          Ontario               CA            14771   \n",
       "2              13891          Ontario               CA            14831   \n",
       "3              13891          Ontario               CA            14831   \n",
       "4              13891          Ontario               CA            14831   \n",
       "\n",
       "  dest_city_name dest_state_abr  cancelled cancellation_code  diverted  \\\n",
       "0  San Francisco             CA        0.0               NaN       0.0   \n",
       "1  San Francisco             CA        0.0               NaN       0.0   \n",
       "2       San Jose             CA        0.0               NaN       0.0   \n",
       "3       San Jose             CA        0.0               NaN       0.0   \n",
       "4       San Jose             CA        0.0               NaN       0.0   \n",
       "\n",
       "   flights  \n",
       "0      1.0  \n",
       "1      1.0  \n",
       "2      1.0  \n",
       "3      1.0  \n",
       "4      1.0  "
      ]
     },
     "execution_count": 32,
     "metadata": {},
     "output_type": "execute_result"
    }
   ],
   "source": [
    "df.head()"
   ]
  },
  {
   "cell_type": "markdown",
   "metadata": {},
   "source": [
    "### Univarent Visualization"
   ]
  },
  {
   "cell_type": "markdown",
   "metadata": {},
   "source": [
    "#### What's the summary of the data"
   ]
  },
  {
   "cell_type": "code",
   "execution_count": 33,
   "metadata": {},
   "outputs": [
    {
     "data": {
      "image/png": "[encoded data removed]",
      "text/plain": [
       "<Figure size 1440x720 with 1 Axes>"
      ]
     },
     "metadata": {},
     "output_type": "display_data"
    }
   ],
   "source": [
    "plt.figure(figsize=[20,10])\n",
    "cancelled = df['cancelled'].sum()\n",
    "diverted = df['diverted'].sum()\n",
    "ontime = df['flights'].sum() - cancelled - diverted\n",
    "summary = [cancelled, diverted, ontime]\n",
    "plt.pie(summary, labels=['Cancelled', 'Diverted', 'Ontime'], autopct='%1.1f%%', textprops={'fontsize': 14})\n",
    "plt.title('US DOS 2020 1Q domestic flight data summary');"
   ]
  },
  {
   "cell_type": "markdown",
   "metadata": {},
   "source": [
    "#### What's the distributionn of the result across the origin cities"
   ]
  },
  {
   "cell_type": "code",
   "execution_count": 34,
   "metadata": {},
   "outputs": [
    {
     "data": {
      "image/png": "[encoded data removed]",
      "text/plain": [
       "<Figure size 1080x720 with 1 Axes>"
      ]
     },
     "metadata": {
      "needs_background": "light"
     },
     "output_type": "display_data"
    }
   ],
   "source": [
    "base_color = sb.color_palette()[0]\n",
    "plt.figure(figsize = [15,10])\n",
    "sb.countplot(data = df, x ='origin_state_abr', color = base_color)\n",
    "plt.xlabel('Days of the week')\n",
    "plt.ylabel('NUmber of flight')\n",
    "plt.title('US DOS 2020 1Q domestic flight state origin distribution');"
   ]
  },
  {
   "cell_type": "markdown",
   "metadata": {},
   "source": [
    "#### Observation\n",
    "The data contained flight informations from various state of which most were from canada(CA)"
   ]
  },
  {
   "cell_type": "code",
   "execution_count": 35,
   "metadata": {},
   "outputs": [],
   "source": [
    "# To make to make the analysis easier to carryout, only flight record from canada (CA) will be recorded,\n",
    "# since of of the flight records has CA airports as their origin\n",
    "df_ca = df[df['origin_state_abr'] == 'CA'].reset_index(drop =True)"
   ]
  },
  {
   "cell_type": "markdown",
   "metadata": {},
   "source": [
    "#### What's the summary of the data of which the flight origin is Canada (CA)"
   ]
  },
  {
   "cell_type": "code",
   "execution_count": 36,
   "metadata": {},
   "outputs": [
    {
     "data": {
      "image/png": "[encoded data removed]",
      "text/plain": [
       "<Figure size 1440x720 with 1 Axes>"
      ]
     },
     "metadata": {},
     "output_type": "display_data"
    }
   ],
   "source": [
    "plt.figure(figsize=[20,10])\n",
    "cancelled = df_ca['cancelled'].sum()\n",
    "diverted = df_ca['diverted'].sum()\n",
    "ontime = df_ca['flights'].sum() - cancelled - diverted\n",
    "summary = [cancelled, diverted, ontime]\n",
    "plt.pie(summary, labels=['Cancelled', 'Diverted', 'Ontime'], autopct='%1.1f%%', textprops={'fontsize': 14});\n",
    "plt.title('Canada 2020 1Q domestic flight data summary');"
   ]
  },
  {
   "cell_type": "markdown",
   "metadata": {},
   "source": [
    "#### Observation \n",
    "The summary of this sample is similar to that of the population "
   ]
  },
  {
   "cell_type": "markdown",
   "metadata": {},
   "source": [
    "#### How the flight distributed across time"
   ]
  },
  {
   "cell_type": "code",
   "execution_count": 37,
   "metadata": {},
   "outputs": [
    {
     "data": {
      "text/plain": [
       "Text(0.5, 1.0, 'Flight Distribution Over Days Of Week')"
      ]
     },
     "execution_count": 37,
     "metadata": {},
     "output_type": "execute_result"
    },
    {
     "data": {
      "image/png": "[encoded data removed]",
      "text/plain": [
       "<Figure size 1440x720 with 2 Axes>"
      ]
     },
     "metadata": {
      "needs_background": "light"
     },
     "output_type": "display_data"
    }
   ],
   "source": [
    "base_color = sb.color_palette()[0]\n",
    "plt.figure(figsize = [20,10])\n",
    "# Subplot representing the flight distribution over the months of aquired data\n",
    "plt.subplot(1,2,1)\n",
    "sb.countplot(data = df_ca, x ='month', color = base_color)\n",
    "plt.xlabel('Months of the year')\n",
    "plt.ylabel('NUmber of flight')\n",
    "plt.title('Flight Distribution Over Month')\n",
    "\n",
    "# Subplot representing the flight distribution over the days of the week\n",
    "plt.subplot(1,2,2)\n",
    "days =  ['Monday', 'Tuesday', 'Wednesday', 'Thursday', 'Friday', 'Saturday', 'Sunday']\n",
    "sb.countplot(data = df_ca, x ='day_of_week', order = days, color = base_color)\n",
    "plt.xlabel('Days of the week')\n",
    "plt.ylabel('NUmber of flight')\n",
    "plt.title('Flight Distribution Over Days Of Week')\n",
    "\n"
   ]
  },
  {
   "cell_type": "markdown",
   "metadata": {},
   "source": [
    "#### Observation\n",
    "In 2020 Q1, domestic flight who's origin was from canada had;\n",
    "- Majority of the flight booking during march\n",
    "- A significant increase in the flight booking during the weekday (monday - thursday) and decline during weekend\n",
    "- Most flight took place on thursday\n"
   ]
  },
  {
   "cell_type": "code",
   "execution_count": 38,
   "metadata": {},
   "outputs": [
    {
     "data": {
      "text/plain": [
       "Text(0.5, 1.0, 'OP unique carrier distribution')"
      ]
     },
     "execution_count": 38,
     "metadata": {},
     "output_type": "execute_result"
    },
    {
     "data": {
      "image/png": "[encoded data removed]",
      "text/plain": [
       "<Figure size 432x288 with 1 Axes>"
      ]
     },
     "metadata": {
      "needs_background": "light"
     },
     "output_type": "display_data"
    }
   ],
   "source": [
    "sb.countplot(data = df_ca, x ='op_unique_carrier', color = base_color)\n",
    "plt.xlabel('OP unique carrier')\n",
    "plt.ylabel('Number of flight')\n",
    "plt.title('OP unique carrier distribution')"
   ]
  },
  {
   "cell_type": "code",
   "execution_count": 39,
   "metadata": {},
   "outputs": [
    {
     "data": {
      "image/png": "[encoded data removed]",
      "text/plain": [
       "<Figure size 1440x720 with 1 Axes>"
      ]
     },
     "metadata": {},
     "output_type": "display_data"
    }
   ],
   "source": [
    "plt.figure(figsize=[20,10])\n",
    "sorted_count = df_ca['diverted'].value_counts()\n",
    "plt.pie(sorted_count, labels=['non-deverted','diverted'], autopct='%1.1f%%',\n",
    "         textprops={'fontsize': 14})\n",
    "plt.title('Flight status distributions')\n",
    "plt.title('Bar chart of flight status');"
   ]
  },
  {
   "cell_type": "markdown",
   "metadata": {},
   "source": [
    "#### Observation \n",
    "An insignificant amount of the flight was diverted in canada during 2020 Q1"
   ]
  },
  {
   "cell_type": "markdown",
   "metadata": {},
   "source": [
    "#### What are the cause of cancelled flight"
   ]
  },
  {
   "cell_type": "code",
   "execution_count": 40,
   "metadata": {},
   "outputs": [
    {
     "data": {
      "text/plain": [
       "Text(0.5, 1.0, 'Cancelled flight breakdown')"
      ]
     },
     "execution_count": 40,
     "metadata": {},
     "output_type": "execute_result"
    },
    {
     "data": {
      "image/png": "[encoded data removed]",
      "text/plain": [
       "<Figure size 1440x720 with 2 Axes>"
      ]
     },
     "metadata": {
      "needs_background": "light"
     },
     "output_type": "display_data"
    }
   ],
   "source": [
    "plt.figure(figsize=[20,10])\n",
    "\n",
    "\n",
    "plt.subplot(1,2,1)\n",
    "cancelled_status_count = df_ca['cancelled'].value_counts()\n",
    "plt.pie(cancelled_status_count, labels=['Approved','Cancelled'], autopct='%1.1f%%',\n",
    "        wedgeprops={'width':0.7}, textprops={'fontsize': 14})\n",
    "plt.title('Flight status distributions')\n",
    "\n",
    "\n",
    "\n",
    "\n",
    "plt.subplot(1,2,2)\n",
    "sb.countplot(data = df_ca, x ='cancellation_code', order=['A','B', 'C','D'], color = sb.color_palette()[1])\n",
    "plt.title('Cancelled flight breakdown')"
   ]
  },
  {
   "cell_type": "markdown",
   "metadata": {},
   "source": [
    "#### Observation\n",
    "- 15.3% of the flight where cancelled\n",
    "- Most flight where cancalled because of security (cancallation code: D)\n",
    "- The least reason for flight cancellation is NAS (cancallation code: C)"
   ]
  },
  {
   "cell_type": "code",
   "execution_count": null,
   "metadata": {},
   "outputs": [],
   "source": []
  },
  {
   "cell_type": "markdown",
   "metadata": {},
   "source": [
    "#### Where do people travel to from canada"
   ]
  },
  {
   "cell_type": "code",
   "execution_count": 41,
   "metadata": {
    "scrolled": false
   },
   "outputs": [
    {
     "data": {
      "text/plain": [
       "<matplotlib.axes._subplots.AxesSubplot at 0x295e836bb08>"
      ]
     },
     "execution_count": 41,
     "metadata": {},
     "output_type": "execute_result"
    },
    {
     "data": {
      "image/png": "[encoded data removed]",
      "text/plain": [
       "<Figure size 1440x2520 with 2 Axes>"
      ]
     },
     "metadata": {
      "needs_background": "light"
     },
     "output_type": "display_data"
    }
   ],
   "source": [
    "plt.figure(figsize = [20,35])\n",
    "\n",
    "# Subplot 1\n",
    "# Destination state from canada\n",
    "plt.subplot(2,1,1)\n",
    "sb.countplot(data = df_ca, x ='dest_state_abr', color = base_color)\n",
    "\n",
    "# Subplot 2\n",
    "# Destination city from canada\n",
    "plt.subplot(2,1,2)\n",
    "sb.countplot(data = df_ca, y ='dest_city_name', color = base_color)"
   ]
  },
  {
   "cell_type": "markdown",
   "metadata": {},
   "source": [
    "#### Observation\n",
    "For flight whose origin was in canada;\n",
    "- Had majoirity of there destination in canada\n",
    "- There was no unique city destination but majority it was Las Vegas"
   ]
  },
  {
   "cell_type": "code",
   "execution_count": 42,
   "metadata": {},
   "outputs": [
    {
     "data": {
      "text/plain": [
       "<matplotlib.axes._subplots.AxesSubplot at 0x295e8d7c608>"
      ]
     },
     "execution_count": 42,
     "metadata": {},
     "output_type": "execute_result"
    },
    {
     "data": {
      "image/png": "[encoded data removed]",
      "text/plain": [
       "<Figure size 1080x720 with 1 Axes>"
      ]
     },
     "metadata": {
      "needs_background": "light"
     },
     "output_type": "display_data"
    }
   ],
   "source": [
    "plt.figure(figsize = [15,10])\n",
    "sb.countplot(data = df_ca, y ='origin_city_name', color = base_color)"
   ]
  },
  {
   "cell_type": "markdown",
   "metadata": {},
   "source": [
    "## Bivarent Visualiztion"
   ]
  },
  {
   "cell_type": "markdown",
   "metadata": {},
   "source": [
    "#### Whats the relationship between the days of the week and the months?"
   ]
  },
  {
   "cell_type": "code",
   "execution_count": 43,
   "metadata": {},
   "outputs": [
    {
     "data": {
      "text/plain": [
       "<matplotlib.axes._subplots.AxesSubplot at 0x295e69a04c8>"
      ]
     },
     "execution_count": 43,
     "metadata": {},
     "output_type": "execute_result"
    },
    {
     "data": {
      "text/plain": [
       "<Figure size 720x360 with 0 Axes>"
      ]
     },
     "metadata": {},
     "output_type": "display_data"
    },
    {
     "data": {
      "image/png": "[encoded data removed]",
      "text/plain": [
       "<Figure size 432x288 with 1 Axes>"
      ]
     },
     "metadata": {
      "needs_background": "light"
     },
     "output_type": "display_data"
    }
   ],
   "source": [
    "# stacked bar chart showing the flight months distributions across the days of the week\n",
    "plt.figure(figsize=(10,5))\n",
    "days=['Monday', 'Tuesday', 'Wednesday', 'Thursday', 'Friday', 'Saturday', 'Sunday']\n",
    "months=['January', 'February', 'March']\n",
    "sorted_data = df_ca.groupby('day_of_week')['month'].value_counts()\n",
    "sorted_data.unstack().reindex(days)[months].apply(lambda x: x*100/sum(x), axis=1).plot(kind='bar', stacked=True)"
   ]
  },
  {
   "cell_type": "markdown",
   "metadata": {},
   "source": [
    "#### Observation\n",
    "- In january and February, most flight was on flight\n",
    "- While in March, majority of the flight was on Monday"
   ]
  },
  {
   "cell_type": "markdown",
   "metadata": {},
   "source": [
    "#### Effect of time on the cancelled flight "
   ]
  },
  {
   "cell_type": "code",
   "execution_count": 44,
   "metadata": {},
   "outputs": [
    {
     "data": {
      "text/plain": [
       "<matplotlib.axes._subplots.AxesSubplot at 0x295dda79208>"
      ]
     },
     "execution_count": 44,
     "metadata": {},
     "output_type": "execute_result"
    },
    {
     "data": {
      "image/png": "[encoded data removed]",
      "text/plain": [
       "<Figure size 1080x360 with 2 Axes>"
      ]
     },
     "metadata": {
      "needs_background": "light"
     },
     "output_type": "display_data"
    }
   ],
   "source": [
    "plt.figure(figsize=(15,5))\n",
    "\n",
    "# Subplot 1\n",
    "# Bar chart showing the relative distribution of approved to cancelled flight across the months\n",
    "months=['January', 'February', 'March']\n",
    "sorted_data = df_ca.groupby('month')['cancelled'].value_counts()\n",
    "sorted_data.unstack().reindex(months).apply(lambda x: x*100/sum(x), axis=1).plot(\n",
    "    kind='bar', ax=plt.subplot(1,2,1), stacked=True )\n",
    "\n",
    "# Subplot 2\n",
    "# Bar chart showing the relative distribution of approved to cancelled flight across the days of the week\n",
    "order=['Monday', 'Tuesday', 'Wednesday', 'Thursday', 'Friday', 'Saturday', 'Sunday']\n",
    "sorted_data = df_ca.groupby('day_of_week')['cancelled'].value_counts()\n",
    "sorted_data.unstack().reindex(order).apply(lambda x: x*100/sum(x), axis=1).plot(\n",
    "    kind='bar', ax=plt.subplot(1,2,2), stacked=True )"
   ]
  },
  {
   "cell_type": "markdown",
   "metadata": {},
   "source": [
    "#### Observation\n",
    "- most flight were cancelled during march\n",
    "- and the cancelled flight proportion was similar irrespective of the day of the week "
   ]
  },
  {
   "cell_type": "markdown",
   "metadata": {},
   "source": [
    "#### What variables has a relationship with the cancelled flight"
   ]
  },
  {
   "cell_type": "code",
   "execution_count": 45,
   "metadata": {},
   "outputs": [
    {
     "data": {
      "text/plain": [
       "<matplotlib.axes._subplots.AxesSubplot at 0x295de0d8708>"
      ]
     },
     "execution_count": 45,
     "metadata": {},
     "output_type": "execute_result"
    },
    {
     "data": {
      "image/png": "[encoded data removed]",
      "text/plain": [
       "<Figure size 1080x360 with 2 Axes>"
      ]
     },
     "metadata": {
      "needs_background": "light"
     },
     "output_type": "display_data"
    }
   ],
   "source": [
    "plt.figure(figsize=(15,5))\n",
    "\n",
    "# Distribution go the cancellation code across the months\n",
    "months=['January', 'February', 'March']\n",
    "sorted_data = df_ca.groupby('month')['cancellation_code'].value_counts()\n",
    "sorted_data.unstack().fillna(0).reindex(months).apply(lambda x: x*100/sum(x), axis=1).plot(\n",
    "    kind='bar', ax=plt.subplot(1,2,1), stacked=True )\n",
    "\n",
    "# Distribution go the cancellation code across the days of the week\n",
    "order=['Monday', 'Tuesday', 'Wednesday', 'Thursday', 'Friday', 'Saturday', 'Sunday']\n",
    "sorted_data = df_ca.groupby('day_of_week')['cancellation_code'].value_counts()\n",
    "sorted_data.unstack().reindex(order).apply(lambda x: x*100/sum(x), axis=1).plot(\n",
    "    kind='bar', ax=plt.subplot(1,2,2), stacked=True )\n",
    "\n",
    "\n"
   ]
  },
  {
   "cell_type": "code",
   "execution_count": 46,
   "metadata": {},
   "outputs": [
    {
     "data": {
      "image/png": "[encoded data removed]",
      "text/plain": [
       "<Figure size 1440x1800 with 3 Axes>"
      ]
     },
     "metadata": {
      "needs_background": "light"
     },
     "output_type": "display_data"
    }
   ],
   "source": [
    "plt.figure(figsize=[20,25])\n",
    "\n",
    "# Subplot 1\n",
    "# Relationship between cancelled flight and the origin city in canada\n",
    "sorted_data = df_ca.groupby('origin_city_name')['cancelled'].value_counts()\n",
    "sorted_data.unstack().fillna(0).apply(lambda x: x*100/sum(x), axis=1).plot(\n",
    "    kind='bar', ax=plt.subplot(3,1,1), title='Relationship between cancelled flight and the origin city in canada', stacked=True )\n",
    "plt.xticks(rotation=15)\n",
    "\n",
    "# Subplot 2\n",
    "# Relationship between cancelled flight and the op unique carrier\n",
    "sorted_data = df_ca.groupby('op_unique_carrier')['cancelled'].value_counts()\n",
    "sorted_data.unstack().fillna(0).apply(lambda x: x*100/sum(x), axis=1).plot(\n",
    "    kind='bar', ax=plt.subplot(3,1,2), title='Relationship between cancelled flight and the op unique carrier', stacked=True )\n",
    "plt.xticks(rotation=0)\n",
    "\n",
    "# Subplot 3\n",
    "# Relationship between cancelled flight and the op unique carrier \n",
    "sorted_data = df_ca.groupby('dest_state_abr')['cancelled'].value_counts()\n",
    "sorted_data.unstack().fillna(0).apply(lambda x: x*100/sum(x), axis=1).plot(\n",
    "    kind='bar', ax=plt.subplot(3,1,3),title = 'Relationship between cancelled flight and the destination state', stacked=True )\n",
    "plt.xticks(rotation=0);"
   ]
  },
  {
   "cell_type": "markdown",
   "metadata": {},
   "source": [
    "#### Observation\n",
    "- Mammoth lake has the highest proprotion of cancelled flight\n",
    "- Op unique carrier `F9` had majority of the cancelled flight\n",
    "- Finally, flight whose destination was Montana where cancalled more than the others"
   ]
  },
  {
   "cell_type": "markdown",
   "metadata": {},
   "source": [
    "#### What variables has a relationship with the diverted flight"
   ]
  },
  {
   "cell_type": "code",
   "execution_count": 47,
   "metadata": {},
   "outputs": [
    {
     "data": {
      "text/plain": [
       "<matplotlib.axes._subplots.AxesSubplot at 0x295eaf7e048>"
      ]
     },
     "execution_count": 47,
     "metadata": {},
     "output_type": "execute_result"
    },
    {
     "data": {
      "image/png": "[encoded data removed]",
      "text/plain": [
       "<Figure size 1080x360 with 2 Axes>"
      ]
     },
     "metadata": {
      "needs_background": "light"
     },
     "output_type": "display_data"
    }
   ],
   "source": [
    "plt.figure(figsize=(15,5))\n",
    "\n",
    "# Subplot 1\n",
    "# Bar chart showing the relative distribution of approved to diverted flight across the months\n",
    "months=['January', 'February', 'March']\n",
    "sorted_data = df_ca.groupby('month')['diverted'].value_counts()\n",
    "sorted_data.unstack().reindex(months).apply(lambda x: x*100/sum(x), axis=1).plot(\n",
    "    kind='bar', ax=plt.subplot(1,2,1), stacked=True )\n",
    "\n",
    "# Subplot 2\n",
    "# Bar chart showing the relative distribution of approved to diverted flight across the days of the week\n",
    "order=['Monday', 'Tuesday', 'Wednesday', 'Thursday', 'Friday', 'Saturday', 'Sunday']\n",
    "sorted_data = df_ca.groupby('day_of_week')['diverted'].value_counts()\n",
    "sorted_data.unstack().reindex(order).apply(lambda x: x*100/sum(x), axis=1).plot(\n",
    "    kind='bar', ax=plt.subplot(1,2,2), stacked=True )"
   ]
  },
  {
   "cell_type": "code",
   "execution_count": 48,
   "metadata": {},
   "outputs": [
    {
     "data": {
      "image/png": "[encoded data removed]",
      "text/plain": [
       "<Figure size 1440x1800 with 3 Axes>"
      ]
     },
     "metadata": {
      "needs_background": "light"
     },
     "output_type": "display_data"
    }
   ],
   "source": [
    "plt.figure(figsize=[20,25])\n",
    "\n",
    "# Subplot 1\n",
    "# Relationship between diverted flight and the origin city in canada\n",
    "sorted_data = df_ca.groupby('origin_city_name')['diverted'].value_counts()\n",
    "sorted_data.unstack().fillna(0).apply(lambda x: x*100/sum(x), axis=1).plot(\n",
    "    kind='bar', ax=plt.subplot(3,1,1), title='Relationship between diverted flight and the origin city in canada', stacked=True )\n",
    "plt.xticks(rotation=15)\n",
    "\n",
    "# Subplot 2\n",
    "# Relationship between diverted flight and the op unique carrier\n",
    "sorted_data = df_ca.groupby('op_unique_carrier')['diverted'].value_counts()\n",
    "sorted_data.unstack().fillna(0).apply(lambda x: x*100/sum(x), axis=1).plot(\n",
    "    kind='bar', ax=plt.subplot(3,1,2), title='Relationship between diverted flight and the op unique carrier', stacked=True )\n",
    "plt.xticks(rotation=0)\n",
    "\n",
    "# Subplot 3\n",
    "# Relationship between diverted flight and the op unique carrier \n",
    "sorted_data = df_ca.groupby('dest_state_abr')['diverted'].value_counts()\n",
    "sorted_data.unstack().fillna(0).apply(lambda x: x*100/sum(x), axis=1).plot(\n",
    "    kind='bar', ax=plt.subplot(3,1,3),title = 'Relationship between diverted flight and the op unique carrier', stacked=True )\n",
    "plt.xticks(rotation=0);"
   ]
  },
  {
   "cell_type": "markdown",
   "metadata": {},
   "source": [
    "#### Observation\n",
    "The diverted flight had an insignificant on the airports performance, irrespective of the variable its compaired with"
   ]
  }
 ],
 "metadata": {
  "kernelspec": {
   "display_name": "Python 3",
   "language": "python",
   "name": "python3"
  },
  "language_info": {
   "codemirror_mode": {
    "name": "ipython",
    "version": 3
   },
   "file_extension": ".py",
   "mimetype": "text/x-python",
   "name": "python",
   "nbconvert_exporter": "python",
   "pygments_lexer": "ipython3",
   "version": "3.7.4"
  }
 },
 "nbformat": 4,
 "nbformat_minor": 2
}
