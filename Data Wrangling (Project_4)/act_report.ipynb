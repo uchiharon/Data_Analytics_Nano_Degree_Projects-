{
 "cells": [
  {
   "cell_type": "markdown",
   "metadata": {},
   "source": [
    "# Project: Data Wrangling (Part 2)"
   ]
  },
  {
   "cell_type": "markdown",
   "metadata": {},
   "source": [
    "# Exploratory Data Analysis"
   ]
  },
  {
   "cell_type": "code",
   "execution_count": 1,
   "metadata": {},
   "outputs": [],
   "source": [
    "import pandas as pd\n",
    "import numpy as np\n",
    "import matplotlib.pyplot as plt\n",
    "import seaborn as sb\n",
    "import statsmodels.api as sm"
   ]
  },
  {
   "cell_type": "markdown",
   "metadata": {},
   "source": [
    "## Data Wrangling"
   ]
  },
  {
   "cell_type": "markdown",
   "metadata": {},
   "source": [
    "### Data Gathering"
   ]
  },
  {
   "cell_type": "code",
   "execution_count": 2,
   "metadata": {},
   "outputs": [],
   "source": [
    "twitter_a = pd.read_csv('twitter_archive_master.csv')"
   ]
  },
  {
   "cell_type": "code",
   "execution_count": 3,
   "metadata": {},
   "outputs": [
    {
     "data": {
      "text/html": [
       "<div>\n",
       "<style scoped>\n",
       "    .dataframe tbody tr th:only-of-type {\n",
       "        vertical-align: middle;\n",
       "    }\n",
       "\n",
       "    .dataframe tbody tr th {\n",
       "        vertical-align: top;\n",
       "    }\n",
       "\n",
       "    .dataframe thead th {\n",
       "        text-align: right;\n",
       "    }\n",
       "</style>\n",
       "<table border=\"1\" class=\"dataframe\">\n",
       "  <thead>\n",
       "    <tr style=\"text-align: right;\">\n",
       "      <th></th>\n",
       "      <th>tweet_id</th>\n",
       "      <th>timestamp</th>\n",
       "      <th>name</th>\n",
       "      <th>rating</th>\n",
       "      <th>favorite_count</th>\n",
       "      <th>retweet_count</th>\n",
       "      <th>followers_count</th>\n",
       "      <th>img_num</th>\n",
       "      <th>p1</th>\n",
       "      <th>p1_conf</th>\n",
       "      <th>p1_dog</th>\n",
       "      <th>p2</th>\n",
       "      <th>p2_conf</th>\n",
       "      <th>p2_dog</th>\n",
       "      <th>p3</th>\n",
       "      <th>p3_conf</th>\n",
       "      <th>p3_dog</th>\n",
       "      <th>stage</th>\n",
       "    </tr>\n",
       "  </thead>\n",
       "  <tbody>\n",
       "    <tr>\n",
       "      <td>0</td>\n",
       "      <td>890240255349198849</td>\n",
       "      <td>2017-07-26 15:59:51+00:00</td>\n",
       "      <td>Cassie</td>\n",
       "      <td>14</td>\n",
       "      <td>29596</td>\n",
       "      <td>6610</td>\n",
       "      <td>8824238</td>\n",
       "      <td>1</td>\n",
       "      <td>Pembroke</td>\n",
       "      <td>0.511319</td>\n",
       "      <td>True</td>\n",
       "      <td>Cardigan</td>\n",
       "      <td>0.451038</td>\n",
       "      <td>True</td>\n",
       "      <td>Chihuahua</td>\n",
       "      <td>0.029248</td>\n",
       "      <td>True</td>\n",
       "      <td>doggo</td>\n",
       "    </tr>\n",
       "    <tr>\n",
       "      <td>1</td>\n",
       "      <td>757393109802180609</td>\n",
       "      <td>2016-07-25 01:52:43+00:00</td>\n",
       "      <td>NaN</td>\n",
       "      <td>10</td>\n",
       "      <td>5784</td>\n",
       "      <td>1723</td>\n",
       "      <td>8824230</td>\n",
       "      <td>2</td>\n",
       "      <td>Labrador_retriever</td>\n",
       "      <td>0.787125</td>\n",
       "      <td>True</td>\n",
       "      <td>Chesapeake_Bay_retriever</td>\n",
       "      <td>0.112676</td>\n",
       "      <td>True</td>\n",
       "      <td>Rottweiler</td>\n",
       "      <td>0.048039</td>\n",
       "      <td>True</td>\n",
       "      <td>doggo</td>\n",
       "    </tr>\n",
       "    <tr>\n",
       "      <td>2</td>\n",
       "      <td>758828659922702336</td>\n",
       "      <td>2016-07-29 00:57:05+00:00</td>\n",
       "      <td>NaN</td>\n",
       "      <td>13</td>\n",
       "      <td>11175</td>\n",
       "      <td>3818</td>\n",
       "      <td>8824230</td>\n",
       "      <td>1</td>\n",
       "      <td>Chesapeake_Bay_retriever</td>\n",
       "      <td>0.480048</td>\n",
       "      <td>True</td>\n",
       "      <td>vizsla</td>\n",
       "      <td>0.264522</td>\n",
       "      <td>True</td>\n",
       "      <td>Weimaraner</td>\n",
       "      <td>0.121840</td>\n",
       "      <td>True</td>\n",
       "      <td>doggo</td>\n",
       "    </tr>\n",
       "  </tbody>\n",
       "</table>\n",
       "</div>"
      ],
      "text/plain": [
       "             tweet_id                  timestamp    name  rating  \\\n",
       "0  890240255349198849  2017-07-26 15:59:51+00:00  Cassie      14   \n",
       "1  757393109802180609  2016-07-25 01:52:43+00:00     NaN      10   \n",
       "2  758828659922702336  2016-07-29 00:57:05+00:00     NaN      13   \n",
       "\n",
       "   favorite_count  retweet_count  followers_count  img_num  \\\n",
       "0           29596           6610          8824238        1   \n",
       "1            5784           1723          8824230        2   \n",
       "2           11175           3818          8824230        1   \n",
       "\n",
       "                         p1   p1_conf  p1_dog                        p2  \\\n",
       "0                  Pembroke  0.511319    True                  Cardigan   \n",
       "1        Labrador_retriever  0.787125    True  Chesapeake_Bay_retriever   \n",
       "2  Chesapeake_Bay_retriever  0.480048    True                    vizsla   \n",
       "\n",
       "    p2_conf  p2_dog          p3   p3_conf  p3_dog  stage  \n",
       "0  0.451038    True   Chihuahua  0.029248    True  doggo  \n",
       "1  0.112676    True  Rottweiler  0.048039    True  doggo  \n",
       "2  0.264522    True  Weimaraner  0.121840    True  doggo  "
      ]
     },
     "execution_count": 3,
     "metadata": {},
     "output_type": "execute_result"
    }
   ],
   "source": [
    "twitter_a.head(3)"
   ]
  },
  {
   "cell_type": "markdown",
   "metadata": {},
   "source": [
    "### Data Accessing"
   ]
  },
  {
   "cell_type": "code",
   "execution_count": 4,
   "metadata": {},
   "outputs": [
    {
     "name": "stdout",
     "output_type": "stream",
     "text": [
      "<class 'pandas.core.frame.DataFrame'>\n",
      "RangeIndex: 1987 entries, 0 to 1986\n",
      "Data columns (total 18 columns):\n",
      "tweet_id           1987 non-null int64\n",
      "timestamp          1987 non-null object\n",
      "name               1441 non-null object\n",
      "rating             1987 non-null int64\n",
      "favorite_count     1987 non-null int64\n",
      "retweet_count      1987 non-null int64\n",
      "followers_count    1987 non-null int64\n",
      "img_num            1987 non-null int64\n",
      "p1                 1987 non-null object\n",
      "p1_conf            1987 non-null float64\n",
      "p1_dog             1987 non-null bool\n",
      "p2                 1987 non-null object\n",
      "p2_conf            1987 non-null float64\n",
      "p2_dog             1987 non-null bool\n",
      "p3                 1987 non-null object\n",
      "p3_conf            1987 non-null float64\n",
      "p3_dog             1987 non-null bool\n",
      "stage              305 non-null object\n",
      "dtypes: bool(3), float64(3), int64(6), object(6)\n",
      "memory usage: 238.8+ KB\n"
     ]
    }
   ],
   "source": [
    "twitter_a.info()"
   ]
  },
  {
   "cell_type": "code",
   "execution_count": 5,
   "metadata": {},
   "outputs": [
    {
     "data": {
      "text/html": [
       "<div>\n",
       "<style scoped>\n",
       "    .dataframe tbody tr th:only-of-type {\n",
       "        vertical-align: middle;\n",
       "    }\n",
       "\n",
       "    .dataframe tbody tr th {\n",
       "        vertical-align: top;\n",
       "    }\n",
       "\n",
       "    .dataframe thead th {\n",
       "        text-align: right;\n",
       "    }\n",
       "</style>\n",
       "<table border=\"1\" class=\"dataframe\">\n",
       "  <thead>\n",
       "    <tr style=\"text-align: right;\">\n",
       "      <th></th>\n",
       "      <th>tweet_id</th>\n",
       "      <th>rating</th>\n",
       "      <th>favorite_count</th>\n",
       "      <th>retweet_count</th>\n",
       "      <th>followers_count</th>\n",
       "      <th>img_num</th>\n",
       "      <th>p1_conf</th>\n",
       "      <th>p2_conf</th>\n",
       "      <th>p3_conf</th>\n",
       "    </tr>\n",
       "  </thead>\n",
       "  <tbody>\n",
       "    <tr>\n",
       "      <td>count</td>\n",
       "      <td>1.987000e+03</td>\n",
       "      <td>1987.000000</td>\n",
       "      <td>1987.000000</td>\n",
       "      <td>1987.000000</td>\n",
       "      <td>1.987000e+03</td>\n",
       "      <td>1987.000000</td>\n",
       "      <td>1987.000000</td>\n",
       "      <td>1.987000e+03</td>\n",
       "      <td>1.987000e+03</td>\n",
       "    </tr>\n",
       "    <tr>\n",
       "      <td>mean</td>\n",
       "      <td>7.356264e+17</td>\n",
       "      <td>11.689985</td>\n",
       "      <td>8191.742828</td>\n",
       "      <td>2423.602919</td>\n",
       "      <td>8.824234e+06</td>\n",
       "      <td>1.203322</td>\n",
       "      <td>0.593317</td>\n",
       "      <td>1.344725e-01</td>\n",
       "      <td>6.037114e-02</td>\n",
       "    </tr>\n",
       "    <tr>\n",
       "      <td>std</td>\n",
       "      <td>6.739210e+16</td>\n",
       "      <td>40.742214</td>\n",
       "      <td>12060.632179</td>\n",
       "      <td>4336.086188</td>\n",
       "      <td>7.413844e+01</td>\n",
       "      <td>0.561369</td>\n",
       "      <td>0.271959</td>\n",
       "      <td>1.005706e-01</td>\n",
       "      <td>5.091543e-02</td>\n",
       "    </tr>\n",
       "    <tr>\n",
       "      <td>min</td>\n",
       "      <td>6.660209e+17</td>\n",
       "      <td>0.000000</td>\n",
       "      <td>70.000000</td>\n",
       "      <td>11.000000</td>\n",
       "      <td>8.824209e+06</td>\n",
       "      <td>1.000000</td>\n",
       "      <td>0.044333</td>\n",
       "      <td>1.011300e-08</td>\n",
       "      <td>1.740170e-10</td>\n",
       "    </tr>\n",
       "    <tr>\n",
       "      <td>25%</td>\n",
       "      <td>6.758218e+17</td>\n",
       "      <td>10.000000</td>\n",
       "      <td>1757.500000</td>\n",
       "      <td>542.000000</td>\n",
       "      <td>8.824216e+06</td>\n",
       "      <td>1.000000</td>\n",
       "      <td>0.361531</td>\n",
       "      <td>5.409535e-02</td>\n",
       "      <td>1.624950e-02</td>\n",
       "    </tr>\n",
       "    <tr>\n",
       "      <td>50%</td>\n",
       "      <td>7.083495e+17</td>\n",
       "      <td>11.000000</td>\n",
       "      <td>3707.000000</td>\n",
       "      <td>1176.000000</td>\n",
       "      <td>8.824227e+06</td>\n",
       "      <td>1.000000</td>\n",
       "      <td>0.587342</td>\n",
       "      <td>1.175080e-01</td>\n",
       "      <td>4.953060e-02</td>\n",
       "    </tr>\n",
       "    <tr>\n",
       "      <td>75%</td>\n",
       "      <td>7.873602e+17</td>\n",
       "      <td>12.000000</td>\n",
       "      <td>10171.000000</td>\n",
       "      <td>2760.000000</td>\n",
       "      <td>8.824232e+06</td>\n",
       "      <td>1.000000</td>\n",
       "      <td>0.844583</td>\n",
       "      <td>1.950575e-01</td>\n",
       "      <td>9.180755e-02</td>\n",
       "    </tr>\n",
       "    <tr>\n",
       "      <td>max</td>\n",
       "      <td>8.924206e+17</td>\n",
       "      <td>1776.000000</td>\n",
       "      <td>154474.000000</td>\n",
       "      <td>76708.000000</td>\n",
       "      <td>8.824872e+06</td>\n",
       "      <td>4.000000</td>\n",
       "      <td>1.000000</td>\n",
       "      <td>4.880140e-01</td>\n",
       "      <td>2.734190e-01</td>\n",
       "    </tr>\n",
       "  </tbody>\n",
       "</table>\n",
       "</div>"
      ],
      "text/plain": [
       "           tweet_id       rating  favorite_count  retweet_count  \\\n",
       "count  1.987000e+03  1987.000000     1987.000000    1987.000000   \n",
       "mean   7.356264e+17    11.689985     8191.742828    2423.602919   \n",
       "std    6.739210e+16    40.742214    12060.632179    4336.086188   \n",
       "min    6.660209e+17     0.000000       70.000000      11.000000   \n",
       "25%    6.758218e+17    10.000000     1757.500000     542.000000   \n",
       "50%    7.083495e+17    11.000000     3707.000000    1176.000000   \n",
       "75%    7.873602e+17    12.000000    10171.000000    2760.000000   \n",
       "max    8.924206e+17  1776.000000   154474.000000   76708.000000   \n",
       "\n",
       "       followers_count      img_num      p1_conf       p2_conf       p3_conf  \n",
       "count     1.987000e+03  1987.000000  1987.000000  1.987000e+03  1.987000e+03  \n",
       "mean      8.824234e+06     1.203322     0.593317  1.344725e-01  6.037114e-02  \n",
       "std       7.413844e+01     0.561369     0.271959  1.005706e-01  5.091543e-02  \n",
       "min       8.824209e+06     1.000000     0.044333  1.011300e-08  1.740170e-10  \n",
       "25%       8.824216e+06     1.000000     0.361531  5.409535e-02  1.624950e-02  \n",
       "50%       8.824227e+06     1.000000     0.587342  1.175080e-01  4.953060e-02  \n",
       "75%       8.824232e+06     1.000000     0.844583  1.950575e-01  9.180755e-02  \n",
       "max       8.824872e+06     4.000000     1.000000  4.880140e-01  2.734190e-01  "
      ]
     },
     "execution_count": 5,
     "metadata": {},
     "output_type": "execute_result"
    }
   ],
   "source": [
    "twitter_a.describe()"
   ]
  },
  {
   "cell_type": "markdown",
   "metadata": {},
   "source": [
    "#### Quality\n",
    "-  While importing our data, some columns data types where changed\n",
    "-  Some columns have outliers in their data"
   ]
  },
  {
   "cell_type": "markdown",
   "metadata": {},
   "source": [
    "### Data Cleaning"
   ]
  },
  {
   "cell_type": "markdown",
   "metadata": {},
   "source": [
    "##### Define\n",
    ">Change columns with wrong datatypes to the required datatype"
   ]
  },
  {
   "cell_type": "markdown",
   "metadata": {},
   "source": [
    "##### Code"
   ]
  },
  {
   "cell_type": "code",
   "execution_count": 6,
   "metadata": {},
   "outputs": [],
   "source": [
    "# Pandas by default import the tweet_id as integral because they are all number,\n",
    "# prevent any future issue when exploring the data because of its data type, i converted them to string\n",
    "twitter_a.tweet_id = twitter_a.tweet_id.astype(str)\n",
    "twitter_a.img_num = twitter_a.img_num.astype(str)\n",
    "twitter_a.timestamp = pd.to_datetime(twitter_a.timestamp)"
   ]
  },
  {
   "cell_type": "markdown",
   "metadata": {},
   "source": [
    "##### Test"
   ]
  },
  {
   "cell_type": "code",
   "execution_count": 7,
   "metadata": {},
   "outputs": [
    {
     "name": "stdout",
     "output_type": "stream",
     "text": [
      "<class 'pandas.core.frame.DataFrame'>\n",
      "RangeIndex: 1987 entries, 0 to 1986\n",
      "Data columns (total 18 columns):\n",
      "tweet_id           1987 non-null object\n",
      "timestamp          1987 non-null datetime64[ns, UTC]\n",
      "name               1441 non-null object\n",
      "rating             1987 non-null int64\n",
      "favorite_count     1987 non-null int64\n",
      "retweet_count      1987 non-null int64\n",
      "followers_count    1987 non-null int64\n",
      "img_num            1987 non-null object\n",
      "p1                 1987 non-null object\n",
      "p1_conf            1987 non-null float64\n",
      "p1_dog             1987 non-null bool\n",
      "p2                 1987 non-null object\n",
      "p2_conf            1987 non-null float64\n",
      "p2_dog             1987 non-null bool\n",
      "p3                 1987 non-null object\n",
      "p3_conf            1987 non-null float64\n",
      "p3_dog             1987 non-null bool\n",
      "stage              305 non-null object\n",
      "dtypes: bool(3), datetime64[ns, UTC](1), float64(3), int64(4), object(7)\n",
      "memory usage: 238.8+ KB\n"
     ]
    }
   ],
   "source": [
    "twitter_a.info()"
   ]
  },
  {
   "cell_type": "markdown",
   "metadata": {},
   "source": [
    "##### Define\n",
    ">Remove outlier from each quantitative data by creating a confidence interval of 98%"
   ]
  },
  {
   "cell_type": "markdown",
   "metadata": {},
   "source": [
    "##### Code"
   ]
  },
  {
   "cell_type": "code",
   "execution_count": 8,
   "metadata": {},
   "outputs": [
    {
     "data": {
      "text/plain": [
       "(3.0, 14.0)"
      ]
     },
     "execution_count": 8,
     "metadata": {},
     "output_type": "execute_result"
    }
   ],
   "source": [
    "np.percentile(twitter_a.rating, 1), np.percentile(twitter_a.rating, 99)"
   ]
  },
  {
   "cell_type": "markdown",
   "metadata": {},
   "source": [
    "##### Test"
   ]
  },
  {
   "cell_type": "code",
   "execution_count": 9,
   "metadata": {
    "scrolled": true
   },
   "outputs": [],
   "source": [
    "# Create a confidence interval of 99% for each numerical data to eliminater outliers\n",
    "columns = ['rating', 'favorite_count', 'retweet_count', 'followers_count']\n",
    "for column in columns:\n",
    "    twitter_a.drop(\n",
    "        twitter_a[(twitter_a[column] < np.percentile(twitter_a[column], 1)) | (twitter_a[column] > np.percentile(twitter_a[column], 99))].index,\n",
    "        inplace = True)"
   ]
  },
  {
   "cell_type": "code",
   "execution_count": 10,
   "metadata": {},
   "outputs": [
    {
     "data": {
      "text/html": [
       "<div>\n",
       "<style scoped>\n",
       "    .dataframe tbody tr th:only-of-type {\n",
       "        vertical-align: middle;\n",
       "    }\n",
       "\n",
       "    .dataframe tbody tr th {\n",
       "        vertical-align: top;\n",
       "    }\n",
       "\n",
       "    .dataframe thead th {\n",
       "        text-align: right;\n",
       "    }\n",
       "</style>\n",
       "<table border=\"1\" class=\"dataframe\">\n",
       "  <thead>\n",
       "    <tr style=\"text-align: right;\">\n",
       "      <th></th>\n",
       "      <th>rating</th>\n",
       "      <th>favorite_count</th>\n",
       "      <th>retweet_count</th>\n",
       "      <th>followers_count</th>\n",
       "      <th>p1_conf</th>\n",
       "      <th>p2_conf</th>\n",
       "      <th>p3_conf</th>\n",
       "    </tr>\n",
       "  </thead>\n",
       "  <tbody>\n",
       "    <tr>\n",
       "      <td>count</td>\n",
       "      <td>1850.000000</td>\n",
       "      <td>1850.000000</td>\n",
       "      <td>1850.000000</td>\n",
       "      <td>1.850000e+03</td>\n",
       "      <td>1850.000000</td>\n",
       "      <td>1.850000e+03</td>\n",
       "      <td>1.850000e+03</td>\n",
       "    </tr>\n",
       "    <tr>\n",
       "      <td>mean</td>\n",
       "      <td>10.612973</td>\n",
       "      <td>7237.736757</td>\n",
       "      <td>2007.409189</td>\n",
       "      <td>8.824227e+06</td>\n",
       "      <td>0.593710</td>\n",
       "      <td>1.355344e-01</td>\n",
       "      <td>6.028536e-02</td>\n",
       "    </tr>\n",
       "    <tr>\n",
       "      <td>std</td>\n",
       "      <td>2.017888</td>\n",
       "      <td>8096.860732</td>\n",
       "      <td>2218.243263</td>\n",
       "      <td>3.354647e+01</td>\n",
       "      <td>0.271542</td>\n",
       "      <td>1.012125e-01</td>\n",
       "      <td>5.082769e-02</td>\n",
       "    </tr>\n",
       "    <tr>\n",
       "      <td>min</td>\n",
       "      <td>3.000000</td>\n",
       "      <td>171.000000</td>\n",
       "      <td>60.000000</td>\n",
       "      <td>8.824211e+06</td>\n",
       "      <td>0.044333</td>\n",
       "      <td>1.011300e-08</td>\n",
       "      <td>1.740170e-10</td>\n",
       "    </tr>\n",
       "    <tr>\n",
       "      <td>25%</td>\n",
       "      <td>10.000000</td>\n",
       "      <td>1869.500000</td>\n",
       "      <td>565.000000</td>\n",
       "      <td>8.824216e+06</td>\n",
       "      <td>0.362857</td>\n",
       "      <td>5.407533e-02</td>\n",
       "      <td>1.641690e-02</td>\n",
       "    </tr>\n",
       "    <tr>\n",
       "      <td>50%</td>\n",
       "      <td>11.000000</td>\n",
       "      <td>3724.500000</td>\n",
       "      <td>1177.500000</td>\n",
       "      <td>8.824227e+06</td>\n",
       "      <td>0.588030</td>\n",
       "      <td>1.193165e-01</td>\n",
       "      <td>4.952715e-02</td>\n",
       "    </tr>\n",
       "    <tr>\n",
       "      <td>75%</td>\n",
       "      <td>12.000000</td>\n",
       "      <td>9905.500000</td>\n",
       "      <td>2650.500000</td>\n",
       "      <td>8.824232e+06</td>\n",
       "      <td>0.841932</td>\n",
       "      <td>1.962177e-01</td>\n",
       "      <td>9.186877e-02</td>\n",
       "    </tr>\n",
       "    <tr>\n",
       "      <td>max</td>\n",
       "      <td>14.000000</td>\n",
       "      <td>49446.000000</td>\n",
       "      <td>14424.000000</td>\n",
       "      <td>8.824852e+06</td>\n",
       "      <td>1.000000</td>\n",
       "      <td>4.880140e-01</td>\n",
       "      <td>2.734190e-01</td>\n",
       "    </tr>\n",
       "  </tbody>\n",
       "</table>\n",
       "</div>"
      ],
      "text/plain": [
       "            rating  favorite_count  retweet_count  followers_count  \\\n",
       "count  1850.000000     1850.000000    1850.000000     1.850000e+03   \n",
       "mean     10.612973     7237.736757    2007.409189     8.824227e+06   \n",
       "std       2.017888     8096.860732    2218.243263     3.354647e+01   \n",
       "min       3.000000      171.000000      60.000000     8.824211e+06   \n",
       "25%      10.000000     1869.500000     565.000000     8.824216e+06   \n",
       "50%      11.000000     3724.500000    1177.500000     8.824227e+06   \n",
       "75%      12.000000     9905.500000    2650.500000     8.824232e+06   \n",
       "max      14.000000    49446.000000   14424.000000     8.824852e+06   \n",
       "\n",
       "           p1_conf       p2_conf       p3_conf  \n",
       "count  1850.000000  1.850000e+03  1.850000e+03  \n",
       "mean      0.593710  1.355344e-01  6.028536e-02  \n",
       "std       0.271542  1.012125e-01  5.082769e-02  \n",
       "min       0.044333  1.011300e-08  1.740170e-10  \n",
       "25%       0.362857  5.407533e-02  1.641690e-02  \n",
       "50%       0.588030  1.193165e-01  4.952715e-02  \n",
       "75%       0.841932  1.962177e-01  9.186877e-02  \n",
       "max       1.000000  4.880140e-01  2.734190e-01  "
      ]
     },
     "execution_count": 10,
     "metadata": {},
     "output_type": "execute_result"
    }
   ],
   "source": [
    "twitter_a.describe()"
   ]
  },
  {
   "cell_type": "markdown",
   "metadata": {},
   "source": [
    "### Data Exploring "
   ]
  },
  {
   "cell_type": "markdown",
   "metadata": {},
   "source": [
    "### \tThe dogs stage investigation"
   ]
  },
  {
   "cell_type": "code",
   "execution_count": 11,
   "metadata": {},
   "outputs": [
    {
     "data": {
      "text/html": [
       "<div>\n",
       "<style scoped>\n",
       "    .dataframe tbody tr th:only-of-type {\n",
       "        vertical-align: middle;\n",
       "    }\n",
       "\n",
       "    .dataframe tbody tr th {\n",
       "        vertical-align: top;\n",
       "    }\n",
       "\n",
       "    .dataframe thead th {\n",
       "        text-align: right;\n",
       "    }\n",
       "</style>\n",
       "<table border=\"1\" class=\"dataframe\">\n",
       "  <thead>\n",
       "    <tr style=\"text-align: right;\">\n",
       "      <th></th>\n",
       "      <th>count</th>\n",
       "      <th>avg_likes</th>\n",
       "      <th>avg_retweets</th>\n",
       "      <th>avg_rating</th>\n",
       "      <th>avg_followers</th>\n",
       "    </tr>\n",
       "    <tr>\n",
       "      <th>stage</th>\n",
       "      <th></th>\n",
       "      <th></th>\n",
       "      <th></th>\n",
       "      <th></th>\n",
       "      <th></th>\n",
       "    </tr>\n",
       "  </thead>\n",
       "  <tbody>\n",
       "    <tr>\n",
       "      <td>doggo</td>\n",
       "      <td>64</td>\n",
       "      <td>11024.218750</td>\n",
       "      <td>2884.046875</td>\n",
       "      <td>11.578125</td>\n",
       "      <td>8.824233e+06</td>\n",
       "    </tr>\n",
       "    <tr>\n",
       "      <td>floofer</td>\n",
       "      <td>6</td>\n",
       "      <td>8923.166667</td>\n",
       "      <td>2368.000000</td>\n",
       "      <td>11.833333</td>\n",
       "      <td>8.824230e+06</td>\n",
       "    </tr>\n",
       "    <tr>\n",
       "      <td>pupper</td>\n",
       "      <td>197</td>\n",
       "      <td>5905.055838</td>\n",
       "      <td>1836.406091</td>\n",
       "      <td>10.598985</td>\n",
       "      <td>8.824227e+06</td>\n",
       "    </tr>\n",
       "    <tr>\n",
       "      <td>puppo</td>\n",
       "      <td>20</td>\n",
       "      <td>13392.750000</td>\n",
       "      <td>3285.850000</td>\n",
       "      <td>11.850000</td>\n",
       "      <td>8.824233e+06</td>\n",
       "    </tr>\n",
       "  </tbody>\n",
       "</table>\n",
       "</div>"
      ],
      "text/plain": [
       "         count     avg_likes  avg_retweets  avg_rating  avg_followers\n",
       "stage                                                                \n",
       "doggo       64  11024.218750   2884.046875   11.578125   8.824233e+06\n",
       "floofer      6   8923.166667   2368.000000   11.833333   8.824230e+06\n",
       "pupper     197   5905.055838   1836.406091   10.598985   8.824227e+06\n",
       "puppo       20  13392.750000   3285.850000   11.850000   8.824233e+06"
      ]
     },
     "execution_count": 11,
     "metadata": {},
     "output_type": "execute_result"
    }
   ],
   "source": [
    "dogs_stage = pd.DataFrame()\n",
    "\n",
    "dogs_stage['count'] = twitter_a.groupby('stage')['stage'].count()\n",
    "\n",
    "dogs_stage['avg_likes'] = twitter_a.groupby('stage')['favorite_count'].mean()\n",
    "\n",
    "dogs_stage['avg_retweets'] = twitter_a.groupby('stage')['retweet_count'].mean()\n",
    "\n",
    "dogs_stage['avg_rating'] =  twitter_a.groupby('stage')['rating'].mean()\n",
    "\n",
    "dogs_stage['avg_followers'] =  twitter_a.groupby('stage')['followers_count'].mean()\n",
    "\n",
    "dogs_stage"
   ]
  },
  {
   "cell_type": "markdown",
   "metadata": {},
   "source": [
    "### Observations\n",
    "1. The pupper dogs forms large proportion of the dogs\n",
    "2. On average, the dogs in the puppo stage has more likes than others\n",
    "3. Also, the puppo dogs has the highest average retweet in comparison to the other stage of dog\n",
    "4. Puppo better rated on an average than other stage of dogs\n",
    "5. Finally, there is no significant difference between the average followers of the dogs"
   ]
  },
  {
   "cell_type": "markdown",
   "metadata": {},
   "source": [
    "### Investigation on the dogs rating "
   ]
  },
  {
   "cell_type": "code",
   "execution_count": 12,
   "metadata": {},
   "outputs": [
    {
     "data": {
      "image/png": "[encoded data removed]",
      "text/plain": [
       "<Figure size 1080x1080 with 4 Axes>"
      ]
     },
     "metadata": {
      "needs_background": "light"
     },
     "output_type": "display_data"
    }
   ],
   "source": [
    "base_color = sb.color_palette()[0]\n",
    "\n",
    "plt.figure(figsize=[15,15])\n",
    "# Subplot 1\n",
    "# The distribution of the dogs ratings\n",
    "plt.subplot(2,2,1)\n",
    "sb.countplot(data = twitter_a, x='rating', color = base_color);\n",
    "plt.title('Dogs ratings distribution');\n",
    "plt.xlabel('dogs ratings (scale of 10)')\n",
    "plt.ylabel('rating count');\n",
    "\n",
    "\n",
    "# Subplot 2\n",
    "# Average rating of the each stage of dogs\n",
    "plt.subplot(2,2,2)\n",
    "sb.barplot(data = twitter_a, x='stage', y='rating',errwidth =0, color = base_color);\n",
    "plt.ylabel('dogs ratings (scale of 10)')\n",
    "plt.title('Dogs stage average rating')\n",
    "\n",
    "\n",
    "# Subplot 3\n",
    "#\n",
    "plt.subplot(2,2,3)\n",
    "base_color = sb.color_palette()[0]\n",
    "sb.barplot(data = twitter_a, x='rating', y='favorite_count', errwidth =0, color = base_color);\n",
    "plt.title('Average favorite count of dogs based on rating');\n",
    "plt.xlabel('dogs ratings (scale of 10)')\n",
    "plt.ylabel('favorite count');\n",
    "\n",
    "\n",
    "# Subplot\n",
    "#\n",
    "plt.subplot(2,2,4)\n",
    "sb.barplot(data = twitter_a, x='rating', y='retweet_count', errwidth =0, color = base_color);\n",
    "plt.title('Average retweet count of dogs based on rating');\n",
    "plt.xlabel('dogs ratings (scale of 10)')\n",
    "plt.ylabel('retweet count');"
   ]
  },
  {
   "cell_type": "markdown",
   "metadata": {},
   "source": [
    "### Observations\n",
    "1. Most dogs were allocated a rating of 12 by the users\n",
    "2. On average, dogs in the floofer stage has the better rating compaired to others \n",
    "3. The shape of the favorite and retweet count distribution based on rating in similiar. This imply a direct relationship between the favorite and retweet count\n",
    "4. Dogs with rating of 14 has the highest favorite and retweet count\n",
    "5. In general, there is on trend relating the favorite and retweet count to the ratings but an increasing trend is observed from a rating of 9 to 14 "
   ]
  },
  {
   "cell_type": "markdown",
   "metadata": {},
   "source": [
    "### Investigation of the dogs bred predictions result"
   ]
  },
  {
   "cell_type": "code",
   "execution_count": 13,
   "metadata": {},
   "outputs": [
    {
     "data": {
      "text/html": [
       "<div>\n",
       "<style scoped>\n",
       "    .dataframe tbody tr th:only-of-type {\n",
       "        vertical-align: middle;\n",
       "    }\n",
       "\n",
       "    .dataframe tbody tr th {\n",
       "        vertical-align: top;\n",
       "    }\n",
       "\n",
       "    .dataframe thead th {\n",
       "        text-align: right;\n",
       "    }\n",
       "</style>\n",
       "<table border=\"1\" class=\"dataframe\">\n",
       "  <thead>\n",
       "    <tr style=\"text-align: right;\">\n",
       "      <th></th>\n",
       "      <th>pred_count</th>\n",
       "      <th>correct_pred</th>\n",
       "      <th>pred_accuracy(%)</th>\n",
       "      <th>pred_avg_conf</th>\n",
       "    </tr>\n",
       "  </thead>\n",
       "  <tbody>\n",
       "    <tr>\n",
       "      <td>1</td>\n",
       "      <td>1379</td>\n",
       "      <td>1172</td>\n",
       "      <td>84.989123</td>\n",
       "      <td>0.593710</td>\n",
       "    </tr>\n",
       "    <tr>\n",
       "      <td>2</td>\n",
       "      <td>1391</td>\n",
       "      <td>146</td>\n",
       "      <td>10.496046</td>\n",
       "      <td>0.135534</td>\n",
       "    </tr>\n",
       "    <tr>\n",
       "      <td>3</td>\n",
       "      <td>1346</td>\n",
       "      <td>50</td>\n",
       "      <td>3.714710</td>\n",
       "      <td>0.060285</td>\n",
       "    </tr>\n",
       "  </tbody>\n",
       "</table>\n",
       "</div>"
      ],
      "text/plain": [
       "   pred_count  correct_pred  pred_accuracy(%)  pred_avg_conf\n",
       "1        1379          1172         84.989123       0.593710\n",
       "2        1391           146         10.496046       0.135534\n",
       "3        1346            50          3.714710       0.060285"
      ]
     },
     "execution_count": 13,
     "metadata": {},
     "output_type": "execute_result"
    }
   ],
   "source": [
    "img_dict = []\n",
    "\n",
    "# Loop through the different predictions algorithm to get some information \n",
    "for num in np.arange(1,4):\n",
    "    num = num.astype(str)\n",
    "    \n",
    "    pred_count = twitter_a['p{}_dog'.format(num)].sum()\n",
    "\n",
    "# Correct prediction is obtained when the image number is thesame as the classifiers number\n",
    "# and the prediction for that breed is True\n",
    "\n",
    "    correct_pred = sum((twitter_a['img_num'] == '{}'.format(num)) & (twitter_a['p{}_dog'.format(num)] == True))\n",
    "    \n",
    "    pred_accuracy = correct_pred/pred_count * 100\n",
    "    \n",
    "    pred_avg_conf = twitter_a['p{}_conf'.format(num)].mean()\n",
    "\n",
    "    img_dict.append({'pred_count':pred_count, 'correct_pred':correct_pred, 'pred_accuracy(%)':pred_accuracy, 'pred_avg_conf':pred_avg_conf})\n",
    "\n",
    "img_df=pd.DataFrame(img_dict)\n",
    "\n",
    "#Start indexing from 1 to aline with image number\n",
    "img_df.index +=1\n",
    "img_df"
   ]
  },
  {
   "cell_type": "code",
   "execution_count": 14,
   "metadata": {},
   "outputs": [
    {
     "data": {
      "text/html": [
       "<div>\n",
       "<style scoped>\n",
       "    .dataframe tbody tr th:only-of-type {\n",
       "        vertical-align: middle;\n",
       "    }\n",
       "\n",
       "    .dataframe tbody tr th {\n",
       "        vertical-align: top;\n",
       "    }\n",
       "\n",
       "    .dataframe thead th {\n",
       "        text-align: right;\n",
       "    }\n",
       "</style>\n",
       "<table border=\"1\" class=\"dataframe\">\n",
       "  <thead>\n",
       "    <tr style=\"text-align: right;\">\n",
       "      <th></th>\n",
       "      <th>pred_count</th>\n",
       "      <th>correct_pred</th>\n",
       "      <th>pred_accuracy(%)</th>\n",
       "      <th>pred_avg_conf</th>\n",
       "    </tr>\n",
       "    <tr>\n",
       "      <th>p1</th>\n",
       "      <th></th>\n",
       "      <th></th>\n",
       "      <th></th>\n",
       "      <th></th>\n",
       "    </tr>\n",
       "  </thead>\n",
       "  <tbody>\n",
       "    <tr>\n",
       "      <td>golden_retriever</td>\n",
       "      <td>130.0</td>\n",
       "      <td>98.0</td>\n",
       "      <td>75.384615</td>\n",
       "      <td>0.721899</td>\n",
       "    </tr>\n",
       "    <tr>\n",
       "      <td>Labrador_retriever</td>\n",
       "      <td>90.0</td>\n",
       "      <td>80.0</td>\n",
       "      <td>88.888889</td>\n",
       "      <td>0.644050</td>\n",
       "    </tr>\n",
       "    <tr>\n",
       "      <td>Pembroke</td>\n",
       "      <td>82.0</td>\n",
       "      <td>71.0</td>\n",
       "      <td>86.585366</td>\n",
       "      <td>0.721344</td>\n",
       "    </tr>\n",
       "    <tr>\n",
       "      <td>Chihuahua</td>\n",
       "      <td>73.0</td>\n",
       "      <td>61.0</td>\n",
       "      <td>83.561644</td>\n",
       "      <td>0.574581</td>\n",
       "    </tr>\n",
       "    <tr>\n",
       "      <td>pug</td>\n",
       "      <td>52.0</td>\n",
       "      <td>46.0</td>\n",
       "      <td>88.461538</td>\n",
       "      <td>0.768736</td>\n",
       "    </tr>\n",
       "    <tr>\n",
       "      <td>chow</td>\n",
       "      <td>39.0</td>\n",
       "      <td>32.0</td>\n",
       "      <td>82.051282</td>\n",
       "      <td>0.612089</td>\n",
       "    </tr>\n",
       "    <tr>\n",
       "      <td>Samoyed</td>\n",
       "      <td>38.0</td>\n",
       "      <td>34.0</td>\n",
       "      <td>89.473684</td>\n",
       "      <td>0.735467</td>\n",
       "    </tr>\n",
       "    <tr>\n",
       "      <td>Pomeranian</td>\n",
       "      <td>36.0</td>\n",
       "      <td>30.0</td>\n",
       "      <td>83.333333</td>\n",
       "      <td>0.756210</td>\n",
       "    </tr>\n",
       "    <tr>\n",
       "      <td>toy_poodle</td>\n",
       "      <td>34.0</td>\n",
       "      <td>28.0</td>\n",
       "      <td>82.352941</td>\n",
       "      <td>0.610915</td>\n",
       "    </tr>\n",
       "    <tr>\n",
       "      <td>malamute</td>\n",
       "      <td>27.0</td>\n",
       "      <td>24.0</td>\n",
       "      <td>88.888889</td>\n",
       "      <td>0.589129</td>\n",
       "    </tr>\n",
       "  </tbody>\n",
       "</table>\n",
       "</div>"
      ],
      "text/plain": [
       "                    pred_count  correct_pred  pred_accuracy(%)  pred_avg_conf\n",
       "p1                                                                           \n",
       "golden_retriever         130.0          98.0         75.384615       0.721899\n",
       "Labrador_retriever        90.0          80.0         88.888889       0.644050\n",
       "Pembroke                  82.0          71.0         86.585366       0.721344\n",
       "Chihuahua                 73.0          61.0         83.561644       0.574581\n",
       "pug                       52.0          46.0         88.461538       0.768736\n",
       "chow                      39.0          32.0         82.051282       0.612089\n",
       "Samoyed                   38.0          34.0         89.473684       0.735467\n",
       "Pomeranian                36.0          30.0         83.333333       0.756210\n",
       "toy_poodle                34.0          28.0         82.352941       0.610915\n",
       "malamute                  27.0          24.0         88.888889       0.589129"
      ]
     },
     "execution_count": 14,
     "metadata": {},
     "output_type": "execute_result"
    }
   ],
   "source": [
    "# Deep investigation on the classifier 1\n",
    "p1_df = pd.DataFrame()\n",
    "\n",
    "p1_df['pred_count'] = twitter_a.groupby('p1')['p1_dog'].sum()\n",
    "\n",
    "p1_df['correct_pred'] = twitter_a[(twitter_a['img_num'] == '1') & (twitter_a['p1_dog'] == True)].groupby('p1')['p1'].count()\n",
    "\n",
    "p1_df['pred_accuracy(%)'] = p1_df['correct_pred']/p1_df['pred_count'] * 100\n",
    "\n",
    "p1_df['pred_avg_conf'] = twitter_a.groupby('p1')['p1_conf'].mean()\n",
    "\n",
    "p1_df.sort_values(by = ['pred_count'], ascending = False, inplace=True)\n",
    "\n",
    "p1_df.head(10)"
   ]
  },
  {
   "cell_type": "markdown",
   "metadata": {},
   "source": [
    "### Observation\n",
    "1. Most prediction of the dog breed was image number 1\n",
    "2. Classsifier 1 has the best accuray and also average prediction coeffiecent \n",
    "3. With respect to classifier 1:\n",
    "    - Majority of the predictions and correct predictions where golden_retriever \n",
    "    - Samoyed breed had the best accuracy and also average prediction confindence \n"
   ]
  },
  {
   "cell_type": "markdown",
   "metadata": {},
   "source": [
    "## Conclusion "
   ]
  },
  {
   "cell_type": "markdown",
   "metadata": {},
   "source": [
    "With view to my result and observation, it could be concluded that:\n",
    "-\tPeople are attracted to and rated dogs in puppo stage better than others\n",
    "-\tDogs with rating higher than 10 are most likely to be better and attractive than those with lesser rating\n",
    "-\tFinally, the classifier 1 algorithm for the dogs image predictions is better than the other algorithm \n"
   ]
  }
 ],
 "metadata": {
  "kernelspec": {
   "display_name": "Python 3",
   "language": "python",
   "name": "python3"
  },
  "language_info": {
   "codemirror_mode": {
    "name": "ipython",
    "version": 3
   },
   "file_extension": ".py",
   "mimetype": "text/x-python",
   "name": "python",
   "nbconvert_exporter": "python",
   "pygments_lexer": "ipython3",
   "version": "3.7.4"
  }
 },
 "nbformat": 4,
 "nbformat_minor": 2
}
